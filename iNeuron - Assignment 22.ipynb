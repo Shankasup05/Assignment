{
 "cells": [
  {
   "cell_type": "markdown",
   "id": "24f9e902",
   "metadata": {},
   "source": [
    "### Q1. What is the result of the code, and explain?"
   ]
  },
  {
   "cell_type": "markdown",
   "id": "20a63aff",
   "metadata": {},
   "source": [
    "&gt;&gt;&gt; X = &#39;iNeuron&#39;\n",
    "&gt;&gt;&gt; def func():\n",
    "print(X)\n",
    "\n",
    "&gt;&gt;&gt; func()"
   ]
  },
  {
   "cell_type": "markdown",
   "id": "156c3043",
   "metadata": {},
   "source": [
    "The global variables are accessible in side the functions in python. But we can not access function variable out side \n",
    "function. \n",
    "Since x is golbal variable we are able to print it in side the function\n",
    "solution : 'iNeuron'"
   ]
  },
  {
   "cell_type": "code",
   "execution_count": 2,
   "id": "f1d1f9ee",
   "metadata": {},
   "outputs": [],
   "source": [
    "x= \"iNeuron\"\n",
    "def func():\n",
    "    print(x)"
   ]
  },
  {
   "cell_type": "code",
   "execution_count": 3,
   "id": "91fdd237",
   "metadata": {},
   "outputs": [
    {
     "name": "stdout",
     "output_type": "stream",
     "text": [
      "iNeuron\n"
     ]
    }
   ],
   "source": [
    "func()"
   ]
  },
  {
   "cell_type": "markdown",
   "id": "47274609",
   "metadata": {},
   "source": [
    "### Q2. What is the result of the code, and explain?"
   ]
  },
  {
   "cell_type": "markdown",
   "id": "10c261ab",
   "metadata": {},
   "source": [
    "&gt;&gt;&gt; X = &#39;iNeuron&#39;\n",
    "&gt;&gt;&gt; def func():\n",
    "X = &#39;NI!&#39;\n",
    "\n",
    "&gt;&gt;&gt; func()\n",
    "&gt;&gt;&gt; print(X)"
   ]
  },
  {
   "cell_type": "code",
   "execution_count": 7,
   "id": "28ac0fe1",
   "metadata": {},
   "outputs": [],
   "source": [
    "x= \"iNeuron\"\n",
    "def func():\n",
    "    x='NI!'"
   ]
  },
  {
   "cell_type": "code",
   "execution_count": 8,
   "id": "cc7b0064",
   "metadata": {},
   "outputs": [
    {
     "name": "stdout",
     "output_type": "stream",
     "text": [
      "iNeuron\n"
     ]
    }
   ],
   "source": [
    "func()\n",
    "print(x)"
   ]
  },
  {
   "cell_type": "markdown",
   "id": "fe089078",
   "metadata": {},
   "source": [
    "The global variables are access in side the functions in python. But we can not access function variable out side \n",
    "function. \n",
    "Since x is golbal variable we are able to print it out side of the function\n",
    "solution = 'iNeuron'"
   ]
  },
  {
   "cell_type": "markdown",
   "id": "3d1f46df",
   "metadata": {},
   "source": [
    "### Q3. What does this code print, and why?"
   ]
  },
  {
   "cell_type": "code",
   "execution_count": 9,
   "id": "917f816a",
   "metadata": {},
   "outputs": [],
   "source": [
    "x= \"iNeuron\"\n",
    "def func():\n",
    "    x='NI!'\n",
    "    print(x)"
   ]
  },
  {
   "cell_type": "code",
   "execution_count": 10,
   "id": "2b0af142",
   "metadata": {},
   "outputs": [
    {
     "name": "stdout",
     "output_type": "stream",
     "text": [
      "NI!\n",
      "iNeuron\n"
     ]
    }
   ],
   "source": [
    "func()\n",
    "print(x)"
   ]
  },
  {
   "cell_type": "markdown",
   "id": "3a41f31a",
   "metadata": {},
   "source": [
    "The global variables are access in side the functions in python. But we can not access function variable out side \n",
    "function. X is updated with 'NI' which is local to function and its immutable. its name space is with in the function\n",
    "solution = 'NI!', 'iNeuron'"
   ]
  },
  {
   "cell_type": "markdown",
   "id": "b574400a",
   "metadata": {},
   "source": [
    "### Q4. What output does this code produce? Why?"
   ]
  },
  {
   "cell_type": "markdown",
   "id": "f07f06f9",
   "metadata": {},
   "source": [
    "&gt;&gt;&gt; X = &#39;iNeuron&#39;\n",
    "&gt;&gt;&gt; def func():\n",
    "global X\n",
    "X = &#39;NI&#39;"
   ]
  },
  {
   "cell_type": "code",
   "execution_count": 11,
   "id": "cca8a3ef",
   "metadata": {},
   "outputs": [
    {
     "name": "stdout",
     "output_type": "stream",
     "text": [
      "NI!\n",
      "NI!\n"
     ]
    }
   ],
   "source": [
    "X = 'iNeuron'\n",
    "def func():\n",
    "    global X\n",
    "    X = 'NI!'\n",
    "    print(X)\n",
    "\n",
    "func()\n",
    "print(X)"
   ]
  },
  {
   "cell_type": "markdown",
   "id": "c73330cf",
   "metadata": {},
   "source": [
    "Here in func() we have declared X as global variable hence it's previous value i.e 'iNeuron' is overrided and when print(x) is executed it prints latest updated value i.e 'NI'."
   ]
  },
  {
   "cell_type": "markdown",
   "id": "68a48827",
   "metadata": {},
   "source": [
    "### Q5. What about this code—what’s the output, and why?"
   ]
  },
  {
   "cell_type": "markdown",
   "id": "713a8e6f",
   "metadata": {},
   "source": [
    "&gt;&gt;&gt; X = &#39;iNeuron&#39;\n",
    "&gt;&gt;&gt; def func():\n",
    "X = &#39;NI&#39;\n",
    "def nested():\n",
    "print(X)\n",
    "nested()"
   ]
  },
  {
   "cell_type": "code",
   "execution_count": 18,
   "id": "4b8ed664",
   "metadata": {},
   "outputs": [
    {
     "name": "stdout",
     "output_type": "stream",
     "text": [
      "iNeuron\n"
     ]
    }
   ],
   "source": [
    "X = 'iNeuron'\n",
    "def func():\n",
    "    X = 'NI'\n",
    "def nested():\n",
    "    print(X)\n",
    "    \n",
    "nested()\n",
    "\n"
   ]
  },
  {
   "cell_type": "code",
   "execution_count": 20,
   "id": "1c5dd3ad",
   "metadata": {},
   "outputs": [
    {
     "data": {
      "text/plain": [
       "'iNeuron'"
      ]
     },
     "execution_count": 20,
     "metadata": {},
     "output_type": "execute_result"
    }
   ],
   "source": [
    "func()\n",
    "X"
   ]
  },
  {
   "cell_type": "markdown",
   "id": "b650867a",
   "metadata": {},
   "source": [
    "### Q6. How about this code: what is its output in Python 3, and explain?"
   ]
  },
  {
   "cell_type": "markdown",
   "id": "afce1f2d",
   "metadata": {},
   "source": [
    "&gt;&gt;&gt; def func():\n",
    "X = &#39;NI&#39;\n",
    "def nested():\n",
    "nonlocal X\n",
    "X = &#39;Spam&#39;\n",
    "nested()\n",
    "print(X)"
   ]
  },
  {
   "cell_type": "code",
   "execution_count": 21,
   "id": "2ea9c74b",
   "metadata": {},
   "outputs": [
    {
     "name": "stdout",
     "output_type": "stream",
     "text": [
      "spam\n"
     ]
    }
   ],
   "source": [
    "def func():\n",
    "    X = 'NI'\n",
    "    def nested():\n",
    "        nonlocal X\n",
    "        X = 'spam'\n",
    "    nested()\n",
    "    print(X)\n",
    "\n",
    "func()"
   ]
  },
  {
   "cell_type": "code",
   "execution_count": null,
   "id": "757151f5",
   "metadata": {},
   "outputs": [],
   "source": []
  }
 ],
 "metadata": {
  "kernelspec": {
   "display_name": "Python 3 (ipykernel)",
   "language": "python",
   "name": "python3"
  },
  "language_info": {
   "codemirror_mode": {
    "name": "ipython",
    "version": 3
   },
   "file_extension": ".py",
   "mimetype": "text/x-python",
   "name": "python",
   "nbconvert_exporter": "python",
   "pygments_lexer": "ipython3",
   "version": "3.9.12"
  }
 },
 "nbformat": 4,
 "nbformat_minor": 5
}
