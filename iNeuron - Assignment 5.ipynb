{
 "cells": [
  {
   "cell_type": "markdown",
   "id": "61e5801e",
   "metadata": {},
   "source": [
    "### Q1. What does an empty dictionary's code look like?"
   ]
  },
  {
   "cell_type": "code",
   "execution_count": 3,
   "id": "a64a687c",
   "metadata": {},
   "outputs": [
    {
     "data": {
      "text/plain": [
       "dict"
      ]
     },
     "execution_count": 3,
     "metadata": {},
     "output_type": "execute_result"
    }
   ],
   "source": [
    "d = {}\n",
    "type(d)"
   ]
  },
  {
   "cell_type": "markdown",
   "id": "45737292",
   "metadata": {},
   "source": [
    "### Q2. What is the value of a dictionary value with the key 'foo' and the value 42?"
   ]
  },
  {
   "cell_type": "code",
   "execution_count": 4,
   "id": "57aee432",
   "metadata": {},
   "outputs": [],
   "source": [
    "dic = {\"foo\" : 42}"
   ]
  },
  {
   "cell_type": "markdown",
   "id": "4eb15d4e",
   "metadata": {},
   "source": [
    "### Q3. What is the most significant distinction between a dictionary and a list?"
   ]
  },
  {
   "cell_type": "markdown",
   "id": "694c2c17",
   "metadata": {},
   "source": [
    "1- Dictionary is keys and values pair and list is only values.\n",
    "2- Looping is faster and easy in list compare to Dictionary.\n",
    "3- dictionary does not follow order."
   ]
  },
  {
   "cell_type": "markdown",
   "id": "e430ccc6",
   "metadata": {},
   "source": [
    "### Q4. What happens if you try to access spam['foo'] if spam is {'bar': 100}?"
   ]
  },
  {
   "cell_type": "code",
   "execution_count": 8,
   "id": "60249b66",
   "metadata": {},
   "outputs": [
    {
     "ename": "KeyError",
     "evalue": "'foo'",
     "output_type": "error",
     "traceback": [
      "\u001b[1;31m---------------------------------------------------------------------------\u001b[0m",
      "\u001b[1;31mKeyError\u001b[0m                                  Traceback (most recent call last)",
      "Input \u001b[1;32mIn [8]\u001b[0m, in \u001b[0;36m<cell line: 2>\u001b[1;34m()\u001b[0m\n\u001b[0;32m      1\u001b[0m spam \u001b[38;5;241m=\u001b[39m {\u001b[38;5;124m'\u001b[39m\u001b[38;5;124mbar\u001b[39m\u001b[38;5;124m'\u001b[39m: \u001b[38;5;241m100\u001b[39m}\n\u001b[1;32m----> 2\u001b[0m \u001b[43mspam\u001b[49m\u001b[43m[\u001b[49m\u001b[38;5;124;43m'\u001b[39;49m\u001b[38;5;124;43mfoo\u001b[39;49m\u001b[38;5;124;43m'\u001b[39;49m\u001b[43m]\u001b[49m\n",
      "\u001b[1;31mKeyError\u001b[0m: 'foo'"
     ]
    }
   ],
   "source": [
    "spam = {'bar': 100}\n",
    "spam['foo']\n",
    "#  No key present in spam dictionary"
   ]
  },
  {
   "cell_type": "markdown",
   "id": "1cff11a8",
   "metadata": {},
   "source": [
    "### Q5. If a dictionary is stored in spam, what is the difference between the expressions 'cat' in spam and 'cat' in spam.keys()?"
   ]
  },
  {
   "cell_type": "markdown",
   "id": "ceccf02a",
   "metadata": {},
   "source": [
    "There is no diffrence, 'cat' is present in dictionary in any form"
   ]
  },
  {
   "cell_type": "code",
   "execution_count": 13,
   "id": "61e2a204",
   "metadata": {},
   "outputs": [
    {
     "data": {
      "text/plain": [
       "True"
      ]
     },
     "execution_count": 13,
     "metadata": {},
     "output_type": "execute_result"
    }
   ],
   "source": [
    "spam = {'cat' : 23}\n",
    "'cat' in spam"
   ]
  },
  {
   "cell_type": "code",
   "execution_count": 15,
   "id": "e450944d",
   "metadata": {},
   "outputs": [
    {
     "data": {
      "text/plain": [
       "True"
      ]
     },
     "execution_count": 15,
     "metadata": {},
     "output_type": "execute_result"
    }
   ],
   "source": [
    "'cat' in spam.keys()"
   ]
  },
  {
   "cell_type": "markdown",
   "id": "8f6f8444",
   "metadata": {},
   "source": [
    "### Q6. If a dictionary is stored in spam, what is the difference between the expressions 'cat' in spam and 'cat' in spam.values()?"
   ]
  },
  {
   "cell_type": "code",
   "execution_count": 17,
   "id": "5c23b417",
   "metadata": {},
   "outputs": [
    {
     "data": {
      "text/plain": [
       "False"
      ]
     },
     "execution_count": 17,
     "metadata": {},
     "output_type": "execute_result"
    }
   ],
   "source": [
    "spam = {'cat' : 24}\n",
    "'cat' in spam.values()"
   ]
  },
  {
   "cell_type": "code",
   "execution_count": 18,
   "id": "051f4025",
   "metadata": {},
   "outputs": [
    {
     "data": {
      "text/plain": [
       "True"
      ]
     },
     "execution_count": 18,
     "metadata": {},
     "output_type": "execute_result"
    }
   ],
   "source": [
    "'cat' in spam"
   ]
  },
  {
   "cell_type": "markdown",
   "id": "cd482a80",
   "metadata": {},
   "source": [
    "### Q7. What is a shortcut for the following code?\n",
    "if 'color' not in spam:\n",
    "spam['color'] = 'black'\n"
   ]
  },
  {
   "cell_type": "markdown",
   "id": "9aca3701",
   "metadata": {},
   "source": [
    "if key and value both are not available in dictionary then we use setdefault() function use which insert key and value pair"
   ]
  },
  {
   "cell_type": "code",
   "execution_count": 19,
   "id": "8c24352a",
   "metadata": {},
   "outputs": [
    {
     "data": {
      "text/plain": [
       "{'cat': 100, 'color': 'black'}"
      ]
     },
     "execution_count": 19,
     "metadata": {},
     "output_type": "execute_result"
    }
   ],
   "source": [
    "spam ={'cat':100}\n",
    "spam.setdefault('color','black')\n",
    "spam"
   ]
  },
  {
   "cell_type": "markdown",
   "id": "afb3def6",
   "metadata": {},
   "source": [
    "### Q8. How do you \"pretty print\" dictionary values using which module and function?"
   ]
  },
  {
   "cell_type": "raw",
   "id": "cf4105ea",
   "metadata": {},
   "source": [
    "Pretty printing means to present something in a more readable format or style"
   ]
  },
  {
   "cell_type": "code",
   "execution_count": 21,
   "id": "7c330273",
   "metadata": {},
   "outputs": [
    {
     "name": "stdout",
     "output_type": "stream",
     "text": [
      "[{'Email': 'abc@gmail.com', 'city': 'dil se', 'work': 'time pass'},\n",
      " {'Email': 'nhiBatauga@gmail.com',\n",
      "  'city': 'padosi ke dil me',\n",
      "  'work': 'abhi socha nhi'},\n",
      " {'Email': 'shaktLaunda@yahoo.com',\n",
      "  'city': 'shaktipur',\n",
      "  'work': 'Ldkiyo se door bhagnna'}]\n"
     ]
    }
   ],
   "source": [
    "import pprint\n",
    "dic = [{'Email' : \"abc@gmail.com\", 'work' : 'time pass','city' : \"dil se\"},{\"Email\" :\"nhiBatauga@gmail.com\", 'work' : 'abhi socha nhi','city': 'padosi ke dil me'},\n",
    "       {'Email' : 'shaktLaunda@yahoo.com', 'work' : 'Ldkiyo se door bhagnna', 'city':'shaktipur'}]\n",
    "pprint.pprint(dic)"
   ]
  },
  {
   "cell_type": "code",
   "execution_count": 22,
   "id": "23d43c7e",
   "metadata": {},
   "outputs": [
    {
     "data": {
      "text/plain": [
       "[{'Email': 'abc@gmail.com', 'work': 'time pass', 'city': 'dil se'},\n",
       " {'Email': 'nhiBatauga@gmail.com',\n",
       "  'work': 'abhi socha nhi',\n",
       "  'city': 'padosi ke dil me'},\n",
       " {'Email': 'shaktLaunda@yahoo.com',\n",
       "  'work': 'Ldkiyo se door bhagnna',\n",
       "  'city': 'shaktipur'}]"
      ]
     },
     "execution_count": 22,
     "metadata": {},
     "output_type": "execute_result"
    }
   ],
   "source": [
    "dic"
   ]
  },
  {
   "cell_type": "code",
   "execution_count": null,
   "id": "54e2fd3b",
   "metadata": {},
   "outputs": [],
   "source": []
  }
 ],
 "metadata": {
  "kernelspec": {
   "display_name": "Python 3 (ipykernel)",
   "language": "python",
   "name": "python3"
  },
  "language_info": {
   "codemirror_mode": {
    "name": "ipython",
    "version": 3
   },
   "file_extension": ".py",
   "mimetype": "text/x-python",
   "name": "python",
   "nbconvert_exporter": "python",
   "pygments_lexer": "ipython3",
   "version": "3.9.12"
  }
 },
 "nbformat": 4,
 "nbformat_minor": 5
}
