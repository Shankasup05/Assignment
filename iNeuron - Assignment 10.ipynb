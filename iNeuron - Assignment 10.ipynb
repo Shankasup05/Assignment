{
 "cells": [
  {
   "cell_type": "markdown",
   "id": "8599b495",
   "metadata": {},
   "source": [
    "### Q1. How do you distinguish between shutil.copy() and shutil.copytree()?"
   ]
  },
  {
   "cell_type": "markdown",
   "id": "a6ebed98",
   "metadata": {},
   "source": [
    "The shutil.copy() function will copy a single file, while shutil.\n",
    "\n",
    "copytree() will copy an entire folder, along with all its contents."
   ]
  },
  {
   "cell_type": "markdown",
   "id": "5d950455",
   "metadata": {},
   "source": [
    "### Q2. What function is used to rename files?"
   ]
  },
  {
   "cell_type": "markdown",
   "id": "6e4d31fc",
   "metadata": {},
   "source": [
    "Rename function use to rename a files."
   ]
  },
  {
   "cell_type": "code",
   "execution_count": 3,
   "id": "3c621748",
   "metadata": {},
   "outputs": [],
   "source": [
    "# import os\n",
    "# os.rename(\"filename.xyz\",\"newname.xyz1\")\n",
    "\n",
    "# import shutil\n",
    "# shutil.move(source, destination)"
   ]
  },
  {
   "cell_type": "markdown",
   "id": "7c7592d5",
   "metadata": {},
   "source": [
    "### Q3. What is the difference between the delete functions in the send2trash and shutil modules?"
   ]
  },
  {
   "cell_type": "markdown",
   "id": "c8fcd853",
   "metadata": {},
   "source": [
    "The send2trash functions will move a file or folder to the recycle bin, while shutil Remove functions will permanently delete files and folders."
   ]
  },
  {
   "cell_type": "code",
   "execution_count": 5,
   "id": "59069950",
   "metadata": {},
   "outputs": [],
   "source": [
    "import shutil\n",
    "import send2trash\n",
    "shutil.rmtree(\"path\")\n",
    "send2trash.send2trash(\"path\")"
   ]
  },
  {
   "cell_type": "markdown",
   "id": "311fd01c",
   "metadata": {},
   "source": [
    "### Q4.ZipFile objects have a close() method just like File objects’ close() method. What ZipFile method is equivalent to File objects’ open() method?"
   ]
  },
  {
   "cell_type": "markdown",
   "id": "147241c2",
   "metadata": {},
   "source": [
    "The zipfile.ZipFile() function is equivalent to the open() function; the first argument is the filename, and the second argument is the mode to open the ZIP file in (read, write, or append)."
   ]
  },
  {
   "cell_type": "code",
   "execution_count": null,
   "id": "c332f171",
   "metadata": {},
   "outputs": [],
   "source": [
    "import Zipfile\n",
    "with ZipFile(file_name, 'r') as zip"
   ]
  },
  {
   "cell_type": "markdown",
   "id": "4ec04292",
   "metadata": {},
   "source": [
    "### Q5. Create a programme that searches a folder tree for files with a certain file extension (such as .pdf or .jpg). Copy these files from whatever location they are in to a new folder."
   ]
  },
  {
   "cell_type": "code",
   "execution_count": null,
   "id": "b9d83daf",
   "metadata": {},
   "outputs": [],
   "source": [
    "import os\n",
    "import shutil\n",
    "\n",
    "def selectiveCopy(source, extensions, destFolder):\n",
    "    folder = os.path.abspath(source)\n",
    "    destfolder = os.path.abspath(destFolder)\n",
    "    print('Looking in', source, 'for files with extensions of', ', '.join(extensions))\n",
    "    for foldername, subfolders, filenames in os.walk(folder):\n",
    "        for filename in filenames:\n",
    "            name, extension = os.path.splitext(filename)\n",
    "            if extension in extensions:\n",
    "                fileAbsPath = foldername + os.path.sep + filename\n",
    "                print('Coping', fileAbsPath, 'to', destFolder)\n",
    "                shutil.copy(fileAbsPath, destfolder)\n",
    "\n",
    "\n",
    "                \n",
    "source = 'F:\\FileHistory\\shash\\LAPTOP-HHTK6LKJ\\Data'\n",
    "extensions = ['.png', '.pdf','.jpg']\n",
    "destFolder = \"'F:\\FileHistory\\shash\\LAPTOP-HHTK6LKJ\"\n",
    "\n",
    "selectiveCopy(source, extensions, destFolder)"
   ]
  },
  {
   "cell_type": "code",
   "execution_count": null,
   "id": "64a96fda",
   "metadata": {},
   "outputs": [],
   "source": []
  }
 ],
 "metadata": {
  "kernelspec": {
   "display_name": "Python 3 (ipykernel)",
   "language": "python",
   "name": "python3"
  },
  "language_info": {
   "codemirror_mode": {
    "name": "ipython",
    "version": 3
   },
   "file_extension": ".py",
   "mimetype": "text/x-python",
   "name": "python",
   "nbconvert_exporter": "python",
   "pygments_lexer": "ipython3",
   "version": "3.9.12"
  }
 },
 "nbformat": 4,
 "nbformat_minor": 5
}
