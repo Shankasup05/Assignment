{
 "cells": [
  {
   "cell_type": "markdown",
   "id": "256ddeb9",
   "metadata": {},
   "source": [
    "#### Qs1. In the below elements which of them are values or an expression? eg:- values can be integer or string and expressions will be mathematical operators."
   ]
  },
  {
   "cell_type": "markdown",
   "id": "3ff3fbba",
   "metadata": {},
   "source": [
    "String value = 'hello' / \"hello\"\n",
    "Integer value = 6,7,8\n",
    "float value = -87.8, 34.223,23.334444\n",
    "Mathematical operators =\n",
    "multiply sign = *\n",
    "division = /\n",
    "addition = +\n",
    "substraction = -\n"
   ]
  },
  {
   "cell_type": "markdown",
   "id": "23494da6",
   "metadata": {},
   "source": [
    "#### Q2. What is the difference between string and variable?"
   ]
  },
  {
   "cell_type": "raw",
   "id": "46b501c3",
   "metadata": {},
   "source": [
    "String- it is text value which show in single or double quotes and it stores series of character.\n",
    "\n",
    "example- \"This is String\", 'This is also string',\"YouPutAnyRandomCharacter\"\n",
    "\n",
    "Variable- It is create to store number, character in memory location. you assign a value using equal(=) sign.\n",
    "          variable names contains only letter, number and underscores but variable never starts with number.\n",
    "example- var=\"Hello\" \n",
    "         var1=123\n",
    "         var_2= 'idfg'\n",
    "         _var=\"dsfd\""
   ]
  },
  {
   "cell_type": "code",
   "execution_count": 1,
   "id": "822a27f1",
   "metadata": {},
   "outputs": [
    {
     "data": {
      "text/plain": [
       "str"
      ]
     },
     "execution_count": 1,
     "metadata": {},
     "output_type": "execute_result"
    }
   ],
   "source": [
    "type(\"This is String\")"
   ]
  },
  {
   "cell_type": "markdown",
   "id": "90be9fc9",
   "metadata": {},
   "source": [
    "#### Q3. Describe three different data types."
   ]
  },
  {
   "cell_type": "markdown",
   "id": "b9ced661",
   "metadata": {},
   "source": [
    "Classification of data items is data types.there are built in data type in Python.\n",
    "1- Numeric\n",
    "2- Boolean\n",
    "3- Sequence Type\n",
    "\n",
    "1-Numeric data types contain integer, float and complex number. it is define int, float and complex in python.\n",
    "  ex- int(4), float(4.9), complex(3+9j)\n",
    "\n",
    "2-There are two Boolean values - True and False. it is show in same context otherwise show a error.\n",
    "  ex- type(True) = bool\n",
    "      type(true) = showing error\n",
    "\n",
    "3- Sequence Type is collect similar and diffrent data types. There are several sequence types.\n",
    "1-String- \"It is collection of character in single or double quotes\"\n",
    "ex- \"Hello\"\n",
    "\n",
    "2-List- it is collection of data. it takes diffrent diffrent type of data. \n",
    "ex- [1,3,\"awwedw\"]\n",
    "\n",
    "3-Tuple -tuple and list are almost same but one point is diffrent that tuple is immutable i.e. tuple can not be modified again.\n",
    "ex- a=(1,4,2,\"sfsdf\")\n"
   ]
  },
  {
   "cell_type": "code",
   "execution_count": 4,
   "id": "9a1f4af1",
   "metadata": {},
   "outputs": [
    {
     "data": {
      "text/plain": [
       "bool"
      ]
     },
     "execution_count": 4,
     "metadata": {},
     "output_type": "execute_result"
    }
   ],
   "source": [
    "# numeric\n",
    "type(4) #int\n",
    "type(4.9) # float\n",
    "type(4+2j) #complex\n",
    "\n",
    "#boolean\n",
    "type(True) #bool\n",
    "\n",
    "# sequence type\n",
    "\"hello\" #str\n",
    "list= [1,3,2,5,\"gjhg\"] \n",
    "tuple= (1,6,3,8,\"dcs\")\n"
   ]
  },
  {
   "cell_type": "markdown",
   "id": "78de8f3f",
   "metadata": {},
   "source": [
    "#### Q4. What is an expression made up of? What do all expressions do?"
   ]
  },
  {
   "cell_type": "raw",
   "id": "e39f91ed",
   "metadata": {},
   "source": [
    "Expression is collection of operators. In expression more than one operators presents  precedence rules  \n",
    "which operation perform first. there are some expression example - +,-,*,/,//,%,and, or, not "
   ]
  },
  {
   "cell_type": "code",
   "execution_count": 5,
   "id": "00a91081",
   "metadata": {},
   "outputs": [
    {
     "data": {
      "text/plain": [
       "25"
      ]
     },
     "execution_count": 5,
     "metadata": {},
     "output_type": "execute_result"
    }
   ],
   "source": [
    "23+2 #addition"
   ]
  },
  {
   "cell_type": "code",
   "execution_count": 6,
   "id": "ef56f60d",
   "metadata": {},
   "outputs": [
    {
     "data": {
      "text/plain": [
       "3.0"
      ]
     },
     "execution_count": 6,
     "metadata": {},
     "output_type": "execute_result"
    }
   ],
   "source": [
    "75/25 # division- it gives you float value"
   ]
  },
  {
   "cell_type": "code",
   "execution_count": 7,
   "id": "4db476c3",
   "metadata": {},
   "outputs": [
    {
     "data": {
      "text/plain": [
       "3"
      ]
     },
     "execution_count": 7,
     "metadata": {},
     "output_type": "execute_result"
    }
   ],
   "source": [
    "75//25 # division- it gives you integer value"
   ]
  },
  {
   "cell_type": "code",
   "execution_count": 9,
   "id": "621b4056",
   "metadata": {},
   "outputs": [
    {
     "data": {
      "text/plain": [
       "0"
      ]
     },
     "execution_count": 9,
     "metadata": {},
     "output_type": "execute_result"
    }
   ],
   "source": [
    "111%37 #remainder"
   ]
  },
  {
   "cell_type": "code",
   "execution_count": 10,
   "id": "31dbf063",
   "metadata": {},
   "outputs": [
    {
     "data": {
      "text/plain": [
       "111"
      ]
     },
     "execution_count": 10,
     "metadata": {},
     "output_type": "execute_result"
    }
   ],
   "source": [
    "37*3"
   ]
  },
  {
   "cell_type": "code",
   "execution_count": 23,
   "id": "2e3b3775",
   "metadata": {},
   "outputs": [],
   "source": [
    "p= -23 >= 23\n",
    "q= 12<= 238238\n",
    "\n",
    "# logical expression\n",
    "p and q #False\n",
    "p or q  # True\n",
    "T= not q"
   ]
  },
  {
   "cell_type": "code",
   "execution_count": 24,
   "id": "2f5c11c7",
   "metadata": {},
   "outputs": [
    {
     "name": "stdout",
     "output_type": "stream",
     "text": [
      "False\n"
     ]
    }
   ],
   "source": [
    "print(T)"
   ]
  },
  {
   "cell_type": "raw",
   "id": "3a0b5c6a",
   "metadata": {},
   "source": [
    "# operator precedence\n",
    "parenthesis > exponentation > multiply,divide,module > addition,substract"
   ]
  },
  {
   "cell_type": "code",
   "execution_count": 26,
   "id": "d06d0bf0",
   "metadata": {},
   "outputs": [
    {
     "data": {
      "text/plain": [
       "11.0"
      ]
     },
     "execution_count": 26,
     "metadata": {},
     "output_type": "execute_result"
    }
   ],
   "source": [
    "5.8+(7.4/3.7*5)-6*2/2.5 \n",
    "# step 1 solve parenthesis 10\n",
    "# step 2 solve 6*2/2.5 = 4.8\n",
    "# step 3 solve 5.8 + 10 - 4.8"
   ]
  },
  {
   "cell_type": "markdown",
   "id": "de6f2dd6",
   "metadata": {},
   "source": [
    "#### Q5. This assignment statements, like spam = 10. What is the difference between an expression and a statement?"
   ]
  },
  {
   "cell_type": "raw",
   "id": "966291c2",
   "metadata": {},
   "source": [
    "spam=10 #statement # assignment statement\n",
    "It is a statement because it is show a value, not a output and Equal(=) sign assign a value in spam. \n",
    "\n",
    "expression is combination of operation, variable. it gives you output every times.and function is also expression. non return function gives None values. "
   ]
  },
  {
   "cell_type": "code",
   "execution_count": 31,
   "id": "f4811887",
   "metadata": {},
   "outputs": [
    {
     "data": {
      "text/plain": [
       "2.0"
      ]
     },
     "execution_count": 31,
     "metadata": {},
     "output_type": "execute_result"
    }
   ],
   "source": [
    "(3+5)/4 #it is expression because it gives you output. "
   ]
  },
  {
   "cell_type": "raw",
   "id": "67be49b1",
   "metadata": {},
   "source": [
    "expression example- \"hello\" + \"world\", 4+5,\n",
    "statement example - a=5, for, if, while, classes, import,del, "
   ]
  },
  {
   "cell_type": "raw",
   "id": "8a0829cf",
   "metadata": {},
   "source": [
    "#statement\n",
    "def fun():\n",
    "    return \"ndsjan\"\n",
    "\n",
    "x=1\n",
    "y=x+1\n"
   ]
  },
  {
   "cell_type": "markdown",
   "id": "35e8a6eb",
   "metadata": {},
   "source": [
    "#### Q6. After running the following code, what does the variable bacon contain?"
   ]
  },
  {
   "cell_type": "code",
   "execution_count": 7,
   "id": "c29293c4",
   "metadata": {},
   "outputs": [
    {
     "data": {
      "text/plain": [
       "23"
      ]
     },
     "execution_count": 7,
     "metadata": {},
     "output_type": "execute_result"
    }
   ],
   "source": [
    "bacon = 22\n",
    "bacon + 1   # 22 + 1\n"
   ]
  },
  {
   "cell_type": "code",
   "execution_count": 8,
   "id": "efbb009c",
   "metadata": {},
   "outputs": [
    {
     "name": "stdout",
     "output_type": "stream",
     "text": [
      "22\n"
     ]
    }
   ],
   "source": [
    "print(bacon)"
   ]
  },
  {
   "cell_type": "markdown",
   "id": "7b4e289e",
   "metadata": {},
   "source": [
    "#### Q7. What should the values of the following two terms be?"
   ]
  },
  {
   "cell_type": "code",
   "execution_count": 9,
   "id": "d8188915",
   "metadata": {},
   "outputs": [
    {
     "data": {
      "text/plain": [
       "'spamspamspam'"
      ]
     },
     "execution_count": 9,
     "metadata": {},
     "output_type": "execute_result"
    }
   ],
   "source": [
    "'spam' + 'spamspam'"
   ]
  },
  {
   "cell_type": "code",
   "execution_count": 10,
   "id": "47d90685",
   "metadata": {},
   "outputs": [
    {
     "data": {
      "text/plain": [
       "'spamspamspam'"
      ]
     },
     "execution_count": 10,
     "metadata": {},
     "output_type": "execute_result"
    }
   ],
   "source": [
    "'spam' * 3"
   ]
  },
  {
   "cell_type": "markdown",
   "id": "f95513e0",
   "metadata": {},
   "source": [
    "#### Q8. Why is eggs a valid variable name while 100 is invalid?"
   ]
  },
  {
   "cell_type": "raw",
   "id": "d9e0a7ef",
   "metadata": {},
   "source": [
    "variable names contains only letter, number and underscores but variable never starts with number."
   ]
  },
  {
   "cell_type": "code",
   "execution_count": 11,
   "id": "4420f5b6",
   "metadata": {},
   "outputs": [
    {
     "ename": "SyntaxError",
     "evalue": "invalid syntax (40607543.py, line 1)",
     "output_type": "error",
     "traceback": [
      "\u001b[1;36m  Input \u001b[1;32mIn [11]\u001b[1;36m\u001b[0m\n\u001b[1;33m    1var= 1\u001b[0m\n\u001b[1;37m     ^\u001b[0m\n\u001b[1;31mSyntaxError\u001b[0m\u001b[1;31m:\u001b[0m invalid syntax\n"
     ]
    }
   ],
   "source": [
    "1var= 1"
   ]
  },
  {
   "cell_type": "code",
   "execution_count": 13,
   "id": "dc96cda8",
   "metadata": {},
   "outputs": [],
   "source": [
    "var_=1"
   ]
  },
  {
   "cell_type": "code",
   "execution_count": 14,
   "id": "2cbfd0b3",
   "metadata": {},
   "outputs": [],
   "source": [
    "_var=1"
   ]
  },
  {
   "cell_type": "code",
   "execution_count": 15,
   "id": "c13f432c",
   "metadata": {},
   "outputs": [],
   "source": [
    "var123=34"
   ]
  },
  {
   "cell_type": "markdown",
   "id": "9eb34440",
   "metadata": {},
   "source": [
    "#### Q9. What three functions can be used to get the integer, floating-point number, or string version of a value?"
   ]
  },
  {
   "cell_type": "code",
   "execution_count": 28,
   "id": "ce250ee4",
   "metadata": {},
   "outputs": [
    {
     "name": "stdout",
     "output_type": "stream",
     "text": [
      "23\n",
      "4\n"
     ]
    }
   ],
   "source": [
    "a=int(input())\n",
    "b=int(input())\n",
    "c=a//b\n",
    "d=a/b"
   ]
  },
  {
   "cell_type": "code",
   "execution_count": 26,
   "id": "f4905c55",
   "metadata": {},
   "outputs": [
    {
     "data": {
      "text/plain": [
       "(1, 1.0303030303030303)"
      ]
     },
     "execution_count": 26,
     "metadata": {},
     "output_type": "execute_result"
    }
   ],
   "source": [
    "c,d"
   ]
  },
  {
   "cell_type": "code",
   "execution_count": 31,
   "id": "8a858127",
   "metadata": {},
   "outputs": [
    {
     "name": "stdout",
     "output_type": "stream",
     "text": [
      "wdfdd\n",
      "csdcdfs\n"
     ]
    }
   ],
   "source": [
    "a=str(input())\n",
    "b=str(input())"
   ]
  },
  {
   "cell_type": "code",
   "execution_count": 33,
   "id": "4af34440",
   "metadata": {},
   "outputs": [],
   "source": [
    "c= a+b"
   ]
  },
  {
   "cell_type": "code",
   "execution_count": 34,
   "id": "73bc09b0",
   "metadata": {},
   "outputs": [
    {
     "data": {
      "text/plain": [
       "'wdfddcsdcdfs'"
      ]
     },
     "execution_count": 34,
     "metadata": {},
     "output_type": "execute_result"
    }
   ],
   "source": [
    "c"
   ]
  },
  {
   "cell_type": "markdown",
   "id": "bd3922fb",
   "metadata": {},
   "source": [
    "#### Q10. Why does this expression cause an error? How can you fix it? "
   ]
  },
  {
   "cell_type": "code",
   "execution_count": 35,
   "id": "893ea991",
   "metadata": {},
   "outputs": [
    {
     "ename": "TypeError",
     "evalue": "can only concatenate str (not \"int\") to str",
     "output_type": "error",
     "traceback": [
      "\u001b[1;31m---------------------------------------------------------------------------\u001b[0m",
      "\u001b[1;31mTypeError\u001b[0m                                 Traceback (most recent call last)",
      "Input \u001b[1;32mIn [35]\u001b[0m, in \u001b[0;36m<cell line: 1>\u001b[1;34m()\u001b[0m\n\u001b[1;32m----> 1\u001b[0m \u001b[38;5;124;43m'\u001b[39;49m\u001b[38;5;124;43mI have eaten \u001b[39;49m\u001b[38;5;124;43m'\u001b[39;49m\u001b[43m \u001b[49m\u001b[38;5;241;43m+\u001b[39;49m\u001b[43m \u001b[49m\u001b[38;5;241;43m99\u001b[39;49m \u001b[38;5;241m+\u001b[39m \u001b[38;5;124m'\u001b[39m\u001b[38;5;124m burritos.\u001b[39m\u001b[38;5;124m'\u001b[39m\n",
      "\u001b[1;31mTypeError\u001b[0m: can only concatenate str (not \"int\") to str"
     ]
    }
   ],
   "source": [
    "'I have eaten ' + 99 + ' burritos.'"
   ]
  },
  {
   "cell_type": "raw",
   "id": "f4e18de4",
   "metadata": {},
   "source": [
    "In this func string and integer addition which is not possible. if integer change in string then it can add."
   ]
  },
  {
   "cell_type": "code",
   "execution_count": 36,
   "id": "cb60b71a",
   "metadata": {},
   "outputs": [
    {
     "data": {
      "text/plain": [
       "'I have eaten 99 burritos.'"
      ]
     },
     "execution_count": 36,
     "metadata": {},
     "output_type": "execute_result"
    }
   ],
   "source": [
    "'I have eaten ' + str(99) + ' burritos.'"
   ]
  },
  {
   "cell_type": "code",
   "execution_count": null,
   "id": "eae782f3",
   "metadata": {},
   "outputs": [],
   "source": []
  }
 ],
 "metadata": {
  "kernelspec": {
   "display_name": "Python 3 (ipykernel)",
   "language": "python",
   "name": "python3"
  },
  "language_info": {
   "codemirror_mode": {
    "name": "ipython",
    "version": 3
   },
   "file_extension": ".py",
   "mimetype": "text/x-python",
   "name": "python",
   "nbconvert_exporter": "python",
   "pygments_lexer": "ipython3",
   "version": "3.9.12"
  }
 },
 "nbformat": 4,
 "nbformat_minor": 5
}
