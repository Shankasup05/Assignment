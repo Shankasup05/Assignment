{
 "cells": [
  {
   "cell_type": "markdown",
   "id": "b790d9b5",
   "metadata": {},
   "source": [
    "### Q1. What advantages do Excel spreadsheets have over CSV spreadsheets?"
   ]
  },
  {
   "cell_type": "markdown",
   "id": "08ba4832",
   "metadata": {},
   "source": [
    "Excel advantages over CSV\n",
    "1. It is a binary file that holds information about all the worksheets in a workbook\n",
    "\n",
    "2. An Excel not only stores data but can also do operations on the data\n",
    "\n",
    "3. Files saved in excel cannot be opened or edited by text editors\n",
    "\n",
    "4. large files user is much easier in Excel for the end user. Also, \n",
    "    you can have additional functions like selecting individual cells for import, \n",
    "    convert dates and time automatically, reading formulas and their results, filters, sorting, etc\n",
    "5. Apart from text, data can also be stored in form of charts and graphs\n",
    "6. Excel can connect to external data sources to fetch data. You can use custom add-in in Excel to increase its functionality. \n",
    "7. Excel allows for Review of Data with detailed tracking and commenting feature\n",
    "8. In Excel, spreadsheets can have values of data types other than strings; cells can have different fonts, sizes, \n",
    "   or color settings; cells can have varying widths and heights; adjacent cells can be merged"
   ]
  },
  {
   "cell_type": "markdown",
   "id": "2e47f8ff",
   "metadata": {},
   "source": [
    "### Q2.What do you pass to csv.reader() and csv.writer() to create reader and writer objects?"
   ]
  },
  {
   "cell_type": "markdown",
   "id": "b0cdba76",
   "metadata": {},
   "source": [
    "we pass a File object, obtained from a call to open()."
   ]
  },
  {
   "cell_type": "code",
   "execution_count": 2,
   "id": "dd0a04d4",
   "metadata": {},
   "outputs": [],
   "source": [
    "# import csv\n",
    "# exFile = open(r'E:\\mysqldata.xlxs')\n",
    "# exreader = csv.reader(exFile)\n",
    "# exData = list(exreader)\n",
    "# exData"
   ]
  },
  {
   "cell_type": "markdown",
   "id": "2b8412e8",
   "metadata": {},
   "source": [
    "### Q3. What modes do File objects for reader and writer objects need to be opened in?"
   ]
  },
  {
   "cell_type": "markdown",
   "id": "5f140974",
   "metadata": {},
   "source": [
    "File objects need to be opened in read-binary ('rb') for Reader objects \n",
    "\n",
    "write-binary ('wb') for Writer objects"
   ]
  },
  {
   "cell_type": "markdown",
   "id": "38fe1d6b",
   "metadata": {},
   "source": [
    "### Q4. What method takes a list argument and writes it to a CSV file?"
   ]
  },
  {
   "cell_type": "markdown",
   "id": "1026a6a7",
   "metadata": {},
   "source": [
    "The writerow() method"
   ]
  },
  {
   "cell_type": "raw",
   "id": "27482e24",
   "metadata": {},
   "source": [
    "opFile = open('data.csv','w')\n",
    "opWriter = csv.writer(opFile)\n",
    "csv.writer(opFile).writerow(['eggs','apple','water'])"
   ]
  },
  {
   "cell_type": "markdown",
   "id": "c93b494b",
   "metadata": {},
   "source": [
    "### Q5. What do the keyword arguments delimiter and line terminator do?"
   ]
  },
  {
   "cell_type": "markdown",
   "id": "84f3a03d",
   "metadata": {},
   "source": [
    "The delimiter argument changes the string used to separate cells in a row. \n",
    "\n",
    "The lineterminator argument changes the string used to separate rows."
   ]
  },
  {
   "cell_type": "code",
   "execution_count": 4,
   "id": "a4afa586",
   "metadata": {},
   "outputs": [],
   "source": [
    "import csv\n",
    "csvFile = open(r'E:\\mysqldata.xlxs', 'w', newline='')\n",
    "csvWriter = csv.writer(csvFile, delimiter='\\t', lineterminator='\\n\\n')"
   ]
  },
  {
   "cell_type": "markdown",
   "id": "1a8ece79",
   "metadata": {},
   "source": [
    "### Q6. What function takes a string of JSON data and returns a Python data structure?"
   ]
  },
  {
   "cell_type": "markdown",
   "id": "944a9d9f",
   "metadata": {},
   "source": [
    "json.loads()"
   ]
  },
  {
   "cell_type": "markdown",
   "id": "8d1e859f",
   "metadata": {},
   "source": [
    "### Q7. What function takes a Python data structure and returns a string of JSON data?"
   ]
  },
  {
   "cell_type": "markdown",
   "id": "7d861b5b",
   "metadata": {},
   "source": [
    "json.dumps()"
   ]
  },
  {
   "cell_type": "code",
   "execution_count": null,
   "id": "83de3412",
   "metadata": {},
   "outputs": [],
   "source": []
  }
 ],
 "metadata": {
  "kernelspec": {
   "display_name": "Python 3 (ipykernel)",
   "language": "python",
   "name": "python3"
  },
  "language_info": {
   "codemirror_mode": {
    "name": "ipython",
    "version": 3
   },
   "file_extension": ".py",
   "mimetype": "text/x-python",
   "name": "python",
   "nbconvert_exporter": "python",
   "pygments_lexer": "ipython3",
   "version": "3.9.12"
  }
 },
 "nbformat": 4,
 "nbformat_minor": 5
}
