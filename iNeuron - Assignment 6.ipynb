{
 "cells": [
  {
   "cell_type": "markdown",
   "id": "8b0df3e0",
   "metadata": {},
   "source": [
    "### Q1. What are escape characters, and how do you use them?"
   ]
  },
  {
   "cell_type": "code",
   "execution_count": null,
   "id": "138bbf8f",
   "metadata": {},
   "outputs": [],
   "source": []
  },
  {
   "cell_type": "raw",
   "id": "8420708a",
   "metadata": {},
   "source": [
    "In Python strings, the backslash \"\\\" is a special character, also called the \"escape\" character. It is used in representing certain whitespace characters: \"\\t\" is a tab, \"\\n\" is a newline, and \"\\r\" is a carriage return\n",
    "\n",
    "prefixing a special character with \"\\\" turns it into an ordinary character. This is called \"escaping\". For example, \"\\'\" is the single quote character. 'It\\'s Sunday' therefore is a valid string and equivalent to \"It's Sunday\". Likewise, '\"' can be escaped: \"\\\"hello\\\"\" is a string begins and ends with the literal double quote character. Finally, \"\\\" can be used to escape itself: \"\\\\\" is the literal backslash character."
   ]
  },
  {
   "cell_type": "markdown",
   "id": "59af220e",
   "metadata": {},
   "source": [
    "### Q2. What do the escape characters n and t stand for?"
   ]
  },
  {
   "cell_type": "raw",
   "id": "87f6c44a",
   "metadata": {},
   "source": [
    "\"\\t\" is a tab\n",
    "\"\\n\" is a newline"
   ]
  },
  {
   "cell_type": "markdown",
   "id": "9b8419d4",
   "metadata": {},
   "source": [
    "### Q3. What is the way to include backslash characters in a string?"
   ]
  },
  {
   "cell_type": "code",
   "execution_count": 10,
   "id": "6ff48461",
   "metadata": {},
   "outputs": [
    {
     "name": "stdout",
     "output_type": "stream",
     "text": [
      "its a back slash /\\/\\/\\/\\/\\ in a sentence\n"
     ]
    }
   ],
   "source": [
    "print('its a back slash /\\\\/\\\\/\\\\/\\\\/\\\\ in a sentence')"
   ]
  },
  {
   "cell_type": "markdown",
   "id": "6c9e0758",
   "metadata": {},
   "source": [
    "### Q4. The string \"Howl's Moving Castle\" is a correct value. Why isn't the single quote character in the word Howl's not escaped a problem?"
   ]
  },
  {
   "cell_type": "code",
   "execution_count": 11,
   "id": "35a1a168",
   "metadata": {},
   "outputs": [
    {
     "data": {
      "text/plain": [
       "\"Howl's Moving Castle\""
      ]
     },
     "execution_count": 11,
     "metadata": {},
     "output_type": "execute_result"
    }
   ],
   "source": [
    "\"Howl\\'s Moving Castle\""
   ]
  },
  {
   "cell_type": "markdown",
   "id": "02105e11",
   "metadata": {},
   "source": [
    "### Q5. How do you write a string of newlines if you don't want to use the n character?"
   ]
  },
  {
   "cell_type": "code",
   "execution_count": 15,
   "id": "58d2ac2f",
   "metadata": {},
   "outputs": [
    {
     "name": "stdout",
     "output_type": "stream",
     "text": [
      " first line \n",
      " second line\n"
     ]
    }
   ],
   "source": [
    "print(\" first line \\n second line\")"
   ]
  },
  {
   "cell_type": "code",
   "execution_count": 17,
   "id": "7cd78fdb",
   "metadata": {},
   "outputs": [
    {
     "name": "stdout",
     "output_type": "stream",
     "text": [
      "printing something in multiple lines\n",
      "second line\n"
     ]
    }
   ],
   "source": [
    "print(\"printing something in multiple lines\",end = '\\n'); print(\"second line\")"
   ]
  },
  {
   "cell_type": "markdown",
   "id": "a5db367f",
   "metadata": {},
   "source": [
    "### Q6. What are the values of the given expressions?"
   ]
  },
  {
   "cell_type": "raw",
   "id": "ec387230",
   "metadata": {},
   "source": [
    "'Hello, world!'[1]\n",
    "'Hello, world!'[0:5]\n",
    "'Hello, world!'[:5]\n",
    "'Hello, world!'[3:]"
   ]
  },
  {
   "cell_type": "code",
   "execution_count": 18,
   "id": "dbf6a0d4",
   "metadata": {},
   "outputs": [
    {
     "data": {
      "text/plain": [
       "'e'"
      ]
     },
     "execution_count": 18,
     "metadata": {},
     "output_type": "execute_result"
    }
   ],
   "source": [
    "'Hello, world!'[1]"
   ]
  },
  {
   "cell_type": "code",
   "execution_count": 21,
   "id": "346e3cc3",
   "metadata": {},
   "outputs": [
    {
     "data": {
      "text/plain": [
       "'Hello'"
      ]
     },
     "execution_count": 21,
     "metadata": {},
     "output_type": "execute_result"
    }
   ],
   "source": [
    "'Hello, world!'[0:5]"
   ]
  },
  {
   "cell_type": "code",
   "execution_count": 22,
   "id": "ed72bd57",
   "metadata": {},
   "outputs": [
    {
     "data": {
      "text/plain": [
       "'Hello'"
      ]
     },
     "execution_count": 22,
     "metadata": {},
     "output_type": "execute_result"
    }
   ],
   "source": [
    "'Hello, world!'[:5]"
   ]
  },
  {
   "cell_type": "code",
   "execution_count": 23,
   "id": "562ea48a",
   "metadata": {},
   "outputs": [
    {
     "data": {
      "text/plain": [
       "'lo, world!'"
      ]
     },
     "execution_count": 23,
     "metadata": {},
     "output_type": "execute_result"
    }
   ],
   "source": [
    "'Hello, world!'[3:]"
   ]
  },
  {
   "cell_type": "markdown",
   "id": "73dea9c9",
   "metadata": {},
   "source": [
    "### Q7. What are the values of the following expressions?"
   ]
  },
  {
   "cell_type": "raw",
   "id": "74da6634",
   "metadata": {},
   "source": [
    "'Hello'.upper()\n",
    "'Hello'.upper().isupper()\n",
    "'Hello'.upper().lower()"
   ]
  },
  {
   "cell_type": "code",
   "execution_count": 24,
   "id": "1f2ba814",
   "metadata": {},
   "outputs": [
    {
     "data": {
      "text/plain": [
       "'HELLO'"
      ]
     },
     "execution_count": 24,
     "metadata": {},
     "output_type": "execute_result"
    }
   ],
   "source": [
    "'Hello'.upper()"
   ]
  },
  {
   "cell_type": "code",
   "execution_count": 25,
   "id": "ac0f3a11",
   "metadata": {},
   "outputs": [
    {
     "data": {
      "text/plain": [
       "True"
      ]
     },
     "execution_count": 25,
     "metadata": {},
     "output_type": "execute_result"
    }
   ],
   "source": [
    "'Hello'.upper().isupper()"
   ]
  },
  {
   "cell_type": "code",
   "execution_count": 26,
   "id": "7f196ab8",
   "metadata": {},
   "outputs": [
    {
     "data": {
      "text/plain": [
       "'hello'"
      ]
     },
     "execution_count": 26,
     "metadata": {},
     "output_type": "execute_result"
    }
   ],
   "source": [
    "'Hello'.upper().lower() \n",
    "# a => 'Hello'.upper() => 'HELLO'.lower() => 'hello'"
   ]
  },
  {
   "cell_type": "markdown",
   "id": "20d916e0",
   "metadata": {},
   "source": [
    "### Q8. What are the values of the following expressions?"
   ]
  },
  {
   "cell_type": "raw",
   "id": "478f55f0",
   "metadata": {},
   "source": [
    "'Remember, remember, the fifth of July.'.split()\n",
    "'-'.join('There can only one.'.split())\n"
   ]
  },
  {
   "cell_type": "code",
   "execution_count": 30,
   "id": "9cf135c8",
   "metadata": {},
   "outputs": [
    {
     "data": {
      "text/plain": [
       "['Remember,', 'remember,', 'the', 'fifth', 'of', 'July.']"
      ]
     },
     "execution_count": 30,
     "metadata": {},
     "output_type": "execute_result"
    }
   ],
   "source": [
    "a= 'Remember, remember, the fifth of July.'.split()\n",
    "a"
   ]
  },
  {
   "cell_type": "code",
   "execution_count": 31,
   "id": "c86f5869",
   "metadata": {},
   "outputs": [
    {
     "data": {
      "text/plain": [
       "list"
      ]
     },
     "execution_count": 31,
     "metadata": {},
     "output_type": "execute_result"
    }
   ],
   "source": [
    "type(a)"
   ]
  },
  {
   "cell_type": "code",
   "execution_count": null,
   "id": "c6b40409",
   "metadata": {},
   "outputs": [],
   "source": [
    "a.s"
   ]
  },
  {
   "cell_type": "code",
   "execution_count": 32,
   "id": "f2e40f7b",
   "metadata": {},
   "outputs": [
    {
     "data": {
      "text/plain": [
       "'There-can-only-one.'"
      ]
     },
     "execution_count": 32,
     "metadata": {},
     "output_type": "execute_result"
    }
   ],
   "source": [
    "'-'.join('There can only one.'.split())"
   ]
  },
  {
   "cell_type": "markdown",
   "id": "31cc4e7d",
   "metadata": {},
   "source": [
    "### Q9. What are the methods for right-justifying, left-justifying, and centering a string?"
   ]
  },
  {
   "cell_type": "raw",
   "id": "6d79eb19",
   "metadata": {},
   "source": [
    "right-justifying - rjust\n",
    "left-justifying - ljust\n",
    "centering - center()"
   ]
  },
  {
   "cell_type": "code",
   "execution_count": 35,
   "id": "a8cd82fe",
   "metadata": {},
   "outputs": [
    {
     "data": {
      "text/plain": [
       "'Hello$$$$$'"
      ]
     },
     "execution_count": 35,
     "metadata": {},
     "output_type": "execute_result"
    }
   ],
   "source": [
    "# left justified\n",
    "str =\"Hello\"\n",
    "str.ljust(10,\"$\")"
   ]
  },
  {
   "cell_type": "code",
   "execution_count": 39,
   "id": "b484cc77",
   "metadata": {},
   "outputs": [
    {
     "data": {
      "text/plain": [
       "'$$$$$$$$$$$$$$$Hello'"
      ]
     },
     "execution_count": 39,
     "metadata": {},
     "output_type": "execute_result"
    }
   ],
   "source": [
    "# right justified\n",
    "str =\"Hello\"\n",
    "str.rjust(20,\"$\")"
   ]
  },
  {
   "cell_type": "code",
   "execution_count": 40,
   "id": "93e47ddf",
   "metadata": {},
   "outputs": [
    {
     "data": {
      "text/plain": [
       "'$$Hello$$'"
      ]
     },
     "execution_count": 40,
     "metadata": {},
     "output_type": "execute_result"
    }
   ],
   "source": [
    "# Center\n",
    "str =\"Hello\"\n",
    "str.center(9,\"$\")"
   ]
  },
  {
   "cell_type": "markdown",
   "id": "cc5ecbc7",
   "metadata": {},
   "source": [
    "### Q10. What is the best way to remove whitespace characters from the start or end?"
   ]
  },
  {
   "cell_type": "raw",
   "id": "4a3152cd",
   "metadata": {},
   "source": [
    "lstrip() -> removes white spaces from left of the string\n",
    "rstrip() -> removes whitespaces from right of the string"
   ]
  },
  {
   "cell_type": "code",
   "execution_count": 44,
   "id": "124d2fbb",
   "metadata": {},
   "outputs": [
    {
     "data": {
      "text/plain": [
       "'csdfsdfs       adasdas        '"
      ]
     },
     "execution_count": 44,
     "metadata": {},
     "output_type": "execute_result"
    }
   ],
   "source": [
    "a= \"      csdfsdfs       adasdas        \"\n",
    "a.lstrip()"
   ]
  },
  {
   "cell_type": "code",
   "execution_count": 45,
   "id": "7242fd07",
   "metadata": {},
   "outputs": [
    {
     "data": {
      "text/plain": [
       "'      csdfsdfs       adasdas'"
      ]
     },
     "execution_count": 45,
     "metadata": {},
     "output_type": "execute_result"
    }
   ],
   "source": [
    "a.rstrip()"
   ]
  },
  {
   "cell_type": "code",
   "execution_count": null,
   "id": "39e1cff8",
   "metadata": {},
   "outputs": [],
   "source": []
  }
 ],
 "metadata": {
  "kernelspec": {
   "display_name": "Python 3 (ipykernel)",
   "language": "python",
   "name": "python3"
  },
  "language_info": {
   "codemirror_mode": {
    "name": "ipython",
    "version": 3
   },
   "file_extension": ".py",
   "mimetype": "text/x-python",
   "name": "python",
   "nbconvert_exporter": "python",
   "pygments_lexer": "ipython3",
   "version": "3.9.12"
  }
 },
 "nbformat": 4,
 "nbformat_minor": 5
}
