{
 "cells": [
  {
   "cell_type": "markdown",
   "id": "3192c2d2",
   "metadata": {},
   "source": [
    "### Q1. What exactly is []?"
   ]
  },
  {
   "cell_type": "markdown",
   "id": "5b2c28bc",
   "metadata": {},
   "source": [
    "Square brackets contains List value. [] is empty list"
   ]
  },
  {
   "cell_type": "markdown",
   "id": "0bbb6472",
   "metadata": {},
   "source": [
    "### Q2. In a list of values stored in a variable called spam, how would you assign the value 'hello' as the third value? (Assume [2, 4, 6, 8, 10] are in spam.)"
   ]
  },
  {
   "cell_type": "raw",
   "id": "0f2560a9",
   "metadata": {},
   "source": [
    "List indexing start with zero.\n",
    "spam= [2,4,6,8,10]\n",
    "index 0 - 2\n",
    "index 1 - 4\n",
    "index 2 - 6\n",
    "index 3 - 8\n",
    "index 4 - 10"
   ]
  },
  {
   "cell_type": "raw",
   "id": "4b0537aa",
   "metadata": {},
   "source": [
    "spam = [2,4,6,8,10]\n",
    "spam[2] = \"hello\"\n",
    "spam = [2,4,\"hello\",6,8,10]"
   ]
  },
  {
   "cell_type": "markdown",
   "id": "467934c6",
   "metadata": {},
   "source": [
    "### Q3. What is the value of spam[int(int('3' * 2) / 11)]?"
   ]
  },
  {
   "cell_type": "code",
   "execution_count": 24,
   "id": "551f57fb",
   "metadata": {},
   "outputs": [],
   "source": [
    "spam= [i for i in range(6,17,2)] # [6,8,10,12,14,16]"
   ]
  },
  {
   "cell_type": "code",
   "execution_count": 25,
   "id": "094cb1e7",
   "metadata": {},
   "outputs": [
    {
     "data": {
      "text/plain": [
       "12"
      ]
     },
     "execution_count": 25,
     "metadata": {},
     "output_type": "execute_result"
    }
   ],
   "source": [
    "spam[int(int('3' * 2) / 11)]\n",
    "# step 1 => int('3' * 2) => 33 , repeat a string 3 two times and convert into integer\n",
    "# step 2 => int(int('3' * 2) / 11) => int(33/11) => int(3)\n",
    "# step 3 => spam[3] means index position 3 value"
   ]
  },
  {
   "cell_type": "markdown",
   "id": "fefe7385",
   "metadata": {},
   "source": [
    "### Q4. What is the value of spam[-1]?"
   ]
  },
  {
   "cell_type": "raw",
   "id": "f26c1849",
   "metadata": {},
   "source": [
    "spam= [6,8,10,12,14,16]\n",
    "index -1 - 16\n",
    "index -2 - 14\n",
    "index -3 - 12\n",
    "index -4 - 10\n",
    "index -5 - 8\n",
    "index -6 - 6"
   ]
  },
  {
   "cell_type": "code",
   "execution_count": 30,
   "id": "8ce84472",
   "metadata": {},
   "outputs": [
    {
     "data": {
      "text/plain": [
       "16"
      ]
     },
     "execution_count": 30,
     "metadata": {},
     "output_type": "execute_result"
    }
   ],
   "source": [
    "spam= [6,8,10,12,14,16]\n",
    "spam[-1]\n",
    "# it counts right hand side to left hand side. minus index use when we count last element to first one."
   ]
  },
  {
   "cell_type": "markdown",
   "id": "8876923d",
   "metadata": {},
   "source": [
    "### Q5. What is the value of spam[:2]?"
   ]
  },
  {
   "cell_type": "code",
   "execution_count": 31,
   "id": "eaf07baf",
   "metadata": {},
   "outputs": [
    {
     "data": {
      "text/plain": [
       "[6, 8]"
      ]
     },
     "execution_count": 31,
     "metadata": {},
     "output_type": "execute_result"
    }
   ],
   "source": [
    "spam= [6,8,10,12,14,16]\n",
    "spam[:2]\n",
    "# it shows 0 and 1st position value"
   ]
  },
  {
   "cell_type": "markdown",
   "id": "9af2b2c5",
   "metadata": {},
   "source": [
    "## Let's pretend bacon has the list [3.14, 'cat,' 11, 'cat,' True] for the next three questions."
   ]
  },
  {
   "cell_type": "markdown",
   "id": "6469871b",
   "metadata": {},
   "source": [
    "### Q6. What is the value of bacon.index('cat')?"
   ]
  },
  {
   "cell_type": "code",
   "execution_count": 17,
   "id": "278e9773",
   "metadata": {},
   "outputs": [],
   "source": [
    "bacon = [3.14, 'cat', 11, 'cat', True]"
   ]
  },
  {
   "cell_type": "code",
   "execution_count": 18,
   "id": "3ddf7325",
   "metadata": {},
   "outputs": [
    {
     "data": {
      "text/plain": [
       "1"
      ]
     },
     "execution_count": 18,
     "metadata": {},
     "output_type": "execute_result"
    }
   ],
   "source": [
    "bacon.index('cat')\n",
    "#  if index get a value in list then execution is stop. it does not check rest of list."
   ]
  },
  {
   "cell_type": "markdown",
   "id": "3b03e859",
   "metadata": {},
   "source": [
    "### Q7. How does bacon.append(99) change the look of the list value in bacon?"
   ]
  },
  {
   "cell_type": "code",
   "execution_count": 19,
   "id": "fadc3341",
   "metadata": {},
   "outputs": [],
   "source": [
    "bacon.append(99)\n",
    "#  append add a value in list in last position"
   ]
  },
  {
   "cell_type": "code",
   "execution_count": 20,
   "id": "b639db4c",
   "metadata": {},
   "outputs": [
    {
     "data": {
      "text/plain": [
       "[3.14, 'cat', 11, 'cat', True, 99]"
      ]
     },
     "execution_count": 20,
     "metadata": {},
     "output_type": "execute_result"
    }
   ],
   "source": [
    "bacon\n"
   ]
  },
  {
   "cell_type": "markdown",
   "id": "eea6c6f6",
   "metadata": {},
   "source": [
    "### Q8. How does bacon.remove('cat') change the look of the list in bacon?"
   ]
  },
  {
   "cell_type": "code",
   "execution_count": 22,
   "id": "5f6c5730",
   "metadata": {},
   "outputs": [],
   "source": [
    "bacon.remove('cat')\n",
    "#  it check left to right and get a value and remove it then it does not check rest of list."
   ]
  },
  {
   "cell_type": "code",
   "execution_count": 23,
   "id": "9aa13572",
   "metadata": {},
   "outputs": [
    {
     "data": {
      "text/plain": [
       "[3.14, 11, 'cat', True, 99]"
      ]
     },
     "execution_count": 23,
     "metadata": {},
     "output_type": "execute_result"
    }
   ],
   "source": [
    "bacon"
   ]
  },
  {
   "cell_type": "markdown",
   "id": "b8141feb",
   "metadata": {},
   "source": [
    "### Q9. What are the list concatenation and list replication operators?"
   ]
  },
  {
   "cell_type": "raw",
   "id": "81be0d23",
   "metadata": {},
   "source": [
    "The operator for list concatenation is + \n",
    "while the operator for replication is *"
   ]
  },
  {
   "cell_type": "code",
   "execution_count": 25,
   "id": "f77514b0",
   "metadata": {},
   "outputs": [
    {
     "data": {
      "text/plain": [
       "[1, 2, 3, 'h', 'e', 'l', 'o']"
      ]
     },
     "execution_count": 25,
     "metadata": {},
     "output_type": "execute_result"
    }
   ],
   "source": [
    "a=[1,2,3] + [\"h\",\"e\",\"l\",\"o\"]\n",
    "a"
   ]
  },
  {
   "cell_type": "code",
   "execution_count": 30,
   "id": "c53d554a",
   "metadata": {},
   "outputs": [
    {
     "data": {
      "text/plain": [
       "[1, 2, 3, 1, 2, 3, 1, 2, 3]"
      ]
     },
     "execution_count": 30,
     "metadata": {},
     "output_type": "execute_result"
    }
   ],
   "source": [
    "b=[1,2,3] * 3\n",
    "b"
   ]
  },
  {
   "cell_type": "markdown",
   "id": "2a18f991",
   "metadata": {},
   "source": [
    "### Q10. What is difference between the list methods append() and insert()?"
   ]
  },
  {
   "cell_type": "raw",
   "id": "f9f33eb3",
   "metadata": {},
   "source": [
    "append() add a value in list in end\n",
    "insert() add a value anywhere in list"
   ]
  },
  {
   "cell_type": "code",
   "execution_count": 31,
   "id": "b0b61408",
   "metadata": {},
   "outputs": [],
   "source": [
    "c= [1, 2, 3, 'h', 'e', 'l', 'o']\n",
    "c.append(\"l\")"
   ]
  },
  {
   "cell_type": "code",
   "execution_count": 32,
   "id": "72969614",
   "metadata": {},
   "outputs": [
    {
     "data": {
      "text/plain": [
       "[1, 2, 3, 'h', 'e', 'l', 'o', 'l']"
      ]
     },
     "execution_count": 32,
     "metadata": {},
     "output_type": "execute_result"
    }
   ],
   "source": [
    "c"
   ]
  },
  {
   "cell_type": "code",
   "execution_count": 34,
   "id": "f33b7fb3",
   "metadata": {},
   "outputs": [],
   "source": [
    "d= [1, 2, 3, 'h', 'e', 'l', 'o']\n",
    "d.insert(5,\"l\")"
   ]
  },
  {
   "cell_type": "code",
   "execution_count": 35,
   "id": "37849389",
   "metadata": {},
   "outputs": [
    {
     "data": {
      "text/plain": [
       "[1, 2, 3, 'h', 'e', 'l', 'l', 'o']"
      ]
     },
     "execution_count": 35,
     "metadata": {},
     "output_type": "execute_result"
    }
   ],
   "source": [
    "d"
   ]
  },
  {
   "cell_type": "markdown",
   "id": "ce2f5537",
   "metadata": {},
   "source": [
    "### Q11. What are the two methods for removing items from a list?"
   ]
  },
  {
   "cell_type": "raw",
   "id": "76ea05f0",
   "metadata": {},
   "source": [
    "del() method and remove() method use delete a value in list"
   ]
  },
  {
   "cell_type": "code",
   "execution_count": 3,
   "id": "523b8734",
   "metadata": {},
   "outputs": [
    {
     "data": {
      "text/plain": [
       "[1, 2, 3, 'h', 'e', 'l', 'o']"
      ]
     },
     "execution_count": 3,
     "metadata": {},
     "output_type": "execute_result"
    }
   ],
   "source": [
    "e= [1, 2, 3, 'h', 'e', 'l', 'l', 'o']\n",
    "del e[5]\n",
    "e"
   ]
  },
  {
   "cell_type": "code",
   "execution_count": 5,
   "id": "9a992e2d",
   "metadata": {},
   "outputs": [],
   "source": [
    "f= [1, 2, 3, 'h', 'e', 'l', 'o', 'l']\n",
    "f.remove('l')"
   ]
  },
  {
   "cell_type": "code",
   "execution_count": 6,
   "id": "279f4bc2",
   "metadata": {},
   "outputs": [
    {
     "data": {
      "text/plain": [
       "[1, 2, 3, 'h', 'e', 'o', 'l']"
      ]
     },
     "execution_count": 6,
     "metadata": {},
     "output_type": "execute_result"
    }
   ],
   "source": [
    "f"
   ]
  },
  {
   "cell_type": "markdown",
   "id": "c19fb969",
   "metadata": {},
   "source": [
    "### Q12. Describe how list values and string values are identical."
   ]
  },
  {
   "cell_type": "raw",
   "id": "ad82c33d",
   "metadata": {},
   "source": [
    "List and string are iterable oject. we convert both of them iterator and get value through loop.\n",
    "len() function , indexing and slicing are also possible and used with the 'in' and 'not' operators"
   ]
  },
  {
   "cell_type": "markdown",
   "id": "5f3eafd5",
   "metadata": {},
   "source": [
    "### Q13. What's the difference between tuples and lists?"
   ]
  },
  {
   "cell_type": "raw",
   "id": "54e79751",
   "metadata": {},
   "source": [
    "List -> 1- It is mutable.\n",
    "        2- Repeats a same value many times\n",
    "        3- It stores a value in square brackets - []\n",
    "Tuple -> 1- It is immutable.\n",
    "         2- Does not Repeat a same value many times\n",
    "         3- It stores a value in parentheses - ()"
   ]
  },
  {
   "cell_type": "markdown",
   "id": "f922e53d",
   "metadata": {},
   "source": [
    "### Q14. How do you type a tuple value that only contains the integer 42?"
   ]
  },
  {
   "cell_type": "code",
   "execution_count": 8,
   "id": "19c88ba3",
   "metadata": {},
   "outputs": [
    {
     "data": {
      "text/plain": [
       "tuple"
      ]
     },
     "execution_count": 8,
     "metadata": {},
     "output_type": "execute_result"
    }
   ],
   "source": [
    "t = (42,)\n",
    "type(t)"
   ]
  },
  {
   "cell_type": "markdown",
   "id": "18cfa21d",
   "metadata": {},
   "source": [
    "### Q15. How do you get a list value's tuple form? How do you get a tuple value's list form?"
   ]
  },
  {
   "cell_type": "code",
   "execution_count": 13,
   "id": "be26c0ba",
   "metadata": {},
   "outputs": [
    {
     "data": {
      "text/plain": [
       "tuple"
      ]
     },
     "execution_count": 13,
     "metadata": {},
     "output_type": "execute_result"
    }
   ],
   "source": [
    "a=tuple([1, 2, 3, 'h', 'e', 'l', 'o'])\n",
    "type(a)"
   ]
  },
  {
   "cell_type": "code",
   "execution_count": 2,
   "id": "196dd294",
   "metadata": {},
   "outputs": [
    {
     "data": {
      "text/plain": [
       "list[1, 2, 3, 'h', 'e', 'l', 'o']"
      ]
     },
     "execution_count": 2,
     "metadata": {},
     "output_type": "execute_result"
    }
   ],
   "source": [
    "b=list[(1, 2, 3, 'h', 'e', 'l', 'o')]\n",
    "b"
   ]
  },
  {
   "cell_type": "markdown",
   "id": "669a2e3a",
   "metadata": {},
   "source": [
    "### Q16. Variables that \"contain\" list values are not necessarily lists themselves. Instead, what do they contain?"
   ]
  },
  {
   "cell_type": "markdown",
   "id": "45db50e7",
   "metadata": {},
   "source": [
    "They contain references to list values"
   ]
  },
  {
   "cell_type": "markdown",
   "id": "b8bef8a8",
   "metadata": {},
   "source": [
    "### Q17. How do you distinguish between copy.copy() and copy.deepcopy()?"
   ]
  },
  {
   "cell_type": "raw",
   "id": "dfdf526a",
   "metadata": {},
   "source": [
    "copy.copy() is a shallow copy. it is refrences.one of them is change then other is also change.\n",
    "copy.deepcopy() function will do a deep copy of a list. only copy.deepcopy() will duplicate any lists inside the \n",
    "list"
   ]
  },
  {
   "cell_type": "code",
   "execution_count": 38,
   "id": "1761a0ce",
   "metadata": {},
   "outputs": [],
   "source": [
    "import copy\n",
    "l= [1, 2, 3, 'h', 'e', 'o', 'l']\n",
    "m= l.copy()\n",
    "n = copy.deepcopy(l)"
   ]
  },
  {
   "cell_type": "code",
   "execution_count": 42,
   "id": "252742cc",
   "metadata": {},
   "outputs": [
    {
     "name": "stdout",
     "output_type": "stream",
     "text": [
      "True\n",
      "False\n",
      "False\n"
     ]
    }
   ],
   "source": [
    "print( l[2] is m[2])\n",
    "print(l is m)\n",
    "print(l is n)"
   ]
  },
  {
   "cell_type": "code",
   "execution_count": null,
   "id": "7023b862",
   "metadata": {},
   "outputs": [],
   "source": []
  },
  {
   "cell_type": "code",
   "execution_count": null,
   "id": "9d1b925b",
   "metadata": {},
   "outputs": [],
   "source": []
  },
  {
   "cell_type": "code",
   "execution_count": null,
   "id": "f7a96ccd",
   "metadata": {},
   "outputs": [],
   "source": []
  }
 ],
 "metadata": {
  "kernelspec": {
   "display_name": "Python 3 (ipykernel)",
   "language": "python",
   "name": "python3"
  },
  "language_info": {
   "codemirror_mode": {
    "name": "ipython",
    "version": 3
   },
   "file_extension": ".py",
   "mimetype": "text/x-python",
   "name": "python",
   "nbconvert_exporter": "python",
   "pygments_lexer": "ipython3",
   "version": "3.9.12"
  }
 },
 "nbformat": 4,
 "nbformat_minor": 5
}
