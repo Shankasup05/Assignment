{
 "cells": [
  {
   "cell_type": "markdown",
   "id": "ea3eccf5",
   "metadata": {},
   "source": [
    "### Q1. What does RGBA stand for?"
   ]
  },
  {
   "cell_type": "markdown",
   "id": "c67e6e8f",
   "metadata": {},
   "source": [
    "RGBA stands for red, green, blue, and alpha (transparency) in the color\n",
    "\n",
    "An RGBA value is a tuple of 4 integers, each ranging from 0 to 255. The four integers correspond \n",
    "\n",
    "to the amount of red, green, blue, and alpha (transparency) in the color"
   ]
  },
  {
   "cell_type": "markdown",
   "id": "511c2ea2",
   "metadata": {},
   "source": [
    "### Q2. From the Pillow module, how do you get the RGBA value of any images?"
   ]
  },
  {
   "cell_type": "code",
   "execution_count": 2,
   "id": "5093b7d4",
   "metadata": {},
   "outputs": [
    {
     "data": {
      "text/plain": [
       "(0, 0, 255, 255)"
      ]
     },
     "execution_count": 2,
     "metadata": {},
     "output_type": "execute_result"
    }
   ],
   "source": [
    "from PIL import ImageColor\n",
    "ImageColor.getcolor('white', 'RGBA')\n",
    "ImageColor.getcolor('blue', 'RGBA')"
   ]
  },
  {
   "cell_type": "markdown",
   "id": "3db621eb",
   "metadata": {},
   "source": [
    "### Q3. What is a box tuple, and how does it work?"
   ]
  },
  {
   "cell_type": "markdown",
   "id": "c707c2e1",
   "metadata": {},
   "source": [
    "A box tuple is a tuple value of four integers: the left edge x-coordinate, the top edge y-coordinate, the width, and the height, respectively"
   ]
  },
  {
   "cell_type": "markdown",
   "id": "7792d082",
   "metadata": {},
   "source": [
    "### Q4. Use your image and load in notebook then, How can you find out the width and height of an Image object?"
   ]
  },
  {
   "cell_type": "code",
   "execution_count": 4,
   "id": "3377ce48",
   "metadata": {},
   "outputs": [
    {
     "data": {
      "text/plain": [
       "(6000, 3376)"
      ]
     },
     "execution_count": 4,
     "metadata": {},
     "output_type": "execute_result"
    }
   ],
   "source": [
    "from PIL import Image\n",
    "myImg = Image.open(r'C:\\Users\\shash\\OneDrive\\Desktop\\105_FUJI\\DSCF5138.jpg')\n",
    "w,h = myImg.size\n",
    "w,h"
   ]
  },
  {
   "cell_type": "markdown",
   "id": "a8fff3a4",
   "metadata": {},
   "source": [
    "### Q5. What method would you call to get Image object for a 100×100 image, excluding the lower-left quarter of it?"
   ]
  },
  {
   "cell_type": "markdown",
   "id": "565348b8",
   "metadata": {},
   "source": [
    "ImageObject.crop((0, 50, 50, 50)) \n",
    "\n",
    "you are passing a box tuple to crop(), four separate integer arguments."
   ]
  },
  {
   "cell_type": "code",
   "execution_count": 3,
   "id": "50f81a7f",
   "metadata": {},
   "outputs": [],
   "source": [
    "from PIL import Image\n",
    "myImg = Image.open(r'C:\\Users\\shash\\OneDrive\\Desktop\\105_FUJI\\DSCF5138.jpg')\n",
    "crop_image= myImg.crop((0, 50, 50, 50)"
   ]
  },
  {
   "cell_type": "markdown",
   "id": "907c322c",
   "metadata": {},
   "source": [
    "### Q6. After making changes to an Image object, how could you save it as an image file?"
   ]
  },
  {
   "cell_type": "markdown",
   "id": "26f9058c",
   "metadata": {},
   "source": [
    "By Calling the imageObj.save('new_filename.png') method of the Image object."
   ]
  },
  {
   "cell_type": "code",
   "execution_count": 4,
   "id": "f5a9c1fb",
   "metadata": {},
   "outputs": [],
   "source": [
    "from PIL import Image\n",
    "myImg = Image.open(r'C:\\Users\\shash\\OneDrive\\Desktop\\105_FUJI\\DSCF5138.jpg')\n",
    "cropimg= myImg.crop()\n",
    "cropimg.save(r'C:\\Users\\shash\\OneDrive\\Desktop\\105_FUJI\\CropDSCF5138.png')"
   ]
  },
  {
   "cell_type": "markdown",
   "id": "ab864cff",
   "metadata": {},
   "source": [
    "### Q7. What module contains Pillow’s shape-drawing code?"
   ]
  },
  {
   "cell_type": "markdown",
   "id": "af523c34",
   "metadata": {},
   "source": [
    "The ImageDraw module contains code to draw on images"
   ]
  },
  {
   "cell_type": "markdown",
   "id": "8f96b7f6",
   "metadata": {},
   "source": [
    "### Q8. Image objects do not have drawing methods. What kind of object does? How do you get this kind of object?"
   ]
  },
  {
   "cell_type": "markdown",
   "id": "b62538a0",
   "metadata": {},
   "source": [
    "ImageDraw objects have shape-drawing methods such as point(), line(), or rectangle(). \n",
    "\n",
    "They are returned by passing the Image object to the ImageDraw.Draw() function"
   ]
  },
  {
   "cell_type": "code",
   "execution_count": null,
   "id": "88e4ffbf",
   "metadata": {},
   "outputs": [],
   "source": []
  }
 ],
 "metadata": {
  "kernelspec": {
   "display_name": "Python 3 (ipykernel)",
   "language": "python",
   "name": "python3"
  },
  "language_info": {
   "codemirror_mode": {
    "name": "ipython",
    "version": 3
   },
   "file_extension": ".py",
   "mimetype": "text/x-python",
   "name": "python",
   "nbconvert_exporter": "python",
   "pygments_lexer": "ipython3",
   "version": "3.9.12"
  }
 },
 "nbformat": 4,
 "nbformat_minor": 5
}
