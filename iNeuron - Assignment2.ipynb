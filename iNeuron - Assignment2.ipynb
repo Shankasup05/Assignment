{
 "cells": [
  {
   "cell_type": "markdown",
   "id": "afcf931e",
   "metadata": {},
   "source": [
    "#### Q1. What are the two values of the Boolean data type? How do you write them?"
   ]
  },
  {
   "cell_type": "raw",
   "id": "f1c7a9d6",
   "metadata": {},
   "source": [
    "Boolean data type- True, False. technical name is bool\n"
   ]
  },
  {
   "cell_type": "code",
   "execution_count": 1,
   "id": "97979a24",
   "metadata": {},
   "outputs": [
    {
     "data": {
      "text/plain": [
       "bool"
      ]
     },
     "execution_count": 1,
     "metadata": {},
     "output_type": "execute_result"
    }
   ],
   "source": [
    "type(True)\n",
    "type(False)"
   ]
  },
  {
   "cell_type": "markdown",
   "id": "5d4e6601",
   "metadata": {},
   "source": [
    "#### Q2. What are the three different types of Boolean operators?"
   ]
  },
  {
   "cell_type": "raw",
   "id": "7f70847c",
   "metadata": {},
   "source": [
    "3 types of Boolean operators - \"and\", \"or\" & \"not\"\n",
    "\"and\" operators- it gives you True when both are True otherwise gives you  False.\n",
    "\"or\"  operators- it gives you True when one of them is True and both are wrong then give you False\n",
    "\"not\" operators- if value is True then convert into False and vice versa"
   ]
  },
  {
   "cell_type": "code",
   "execution_count": 4,
   "id": "a0723ce8",
   "metadata": {},
   "outputs": [
    {
     "name": "stdout",
     "output_type": "stream",
     "text": [
      "False\n",
      "True\n",
      "False\n"
     ]
    }
   ],
   "source": [
    "print(True and False)\n",
    "print(True and True)\n",
    "print(False and False)"
   ]
  },
  {
   "cell_type": "code",
   "execution_count": 5,
   "id": "ab41d294",
   "metadata": {},
   "outputs": [
    {
     "name": "stdout",
     "output_type": "stream",
     "text": [
      "True\n",
      "True\n",
      "False\n"
     ]
    }
   ],
   "source": [
    "print(True or True)\n",
    "print(True or False)\n",
    "print(False or False)"
   ]
  },
  {
   "cell_type": "code",
   "execution_count": 6,
   "id": "8f0bd139",
   "metadata": {},
   "outputs": [
    {
     "data": {
      "text/plain": [
       "False"
      ]
     },
     "execution_count": 6,
     "metadata": {},
     "output_type": "execute_result"
    }
   ],
   "source": [
    "a= True\n",
    "not a"
   ]
  },
  {
   "cell_type": "markdown",
   "id": "dd78d4a1",
   "metadata": {},
   "source": [
    "#### Q3.Make a list of each Boolean operator's truth tables (i.e. every possible combination of Boolean values for the operator and what it evaluate."
   ]
  },
  {
   "cell_type": "raw",
   "id": "93561817",
   "metadata": {},
   "source": [
    "         A                       B                         A and B              A or B        not A              not B\n",
    "         \n",
    "       True                    False                        False                True         False              False\n",
    "       True                     True                         True                True         False              False\n",
    "       False                   False                        False                False        True               True\n",
    "       False                    True                        False                True         True               True"
   ]
  },
  {
   "cell_type": "markdown",
   "id": "fb509444",
   "metadata": {},
   "source": [
    "#### Q4. What are the values of the following expressions?"
   ]
  },
  {
   "cell_type": "code",
   "execution_count": 1,
   "id": "c743daef",
   "metadata": {},
   "outputs": [
    {
     "data": {
      "text/plain": [
       "False"
      ]
     },
     "execution_count": 1,
     "metadata": {},
     "output_type": "execute_result"
    }
   ],
   "source": [
    "(5 > 4) and (3 == 5)\n",
    "# (5 > 4) is True , (3 == 5) is False so 'and' operator works if anyone is False it gives you False. "
   ]
  },
  {
   "cell_type": "code",
   "execution_count": 2,
   "id": "db95d29b",
   "metadata": {},
   "outputs": [
    {
     "data": {
      "text/plain": [
       "False"
      ]
     },
     "execution_count": 2,
     "metadata": {},
     "output_type": "execute_result"
    }
   ],
   "source": [
    "not (5 > 4)\n",
    "# (5 > 4) is True. \"not\" operator convert a Opposite result. "
   ]
  },
  {
   "cell_type": "code",
   "execution_count": 3,
   "id": "e2d6a6ba",
   "metadata": {},
   "outputs": [
    {
     "data": {
      "text/plain": [
       "True"
      ]
     },
     "execution_count": 3,
     "metadata": {},
     "output_type": "execute_result"
    }
   ],
   "source": [
    "(5 > 4) or (3 == 5)\n",
    "# (5 > 4) is True , (3 == 5) is False so 'Or' operator works if anyone is True it gives you True. "
   ]
  },
  {
   "cell_type": "code",
   "execution_count": 5,
   "id": "c70cf408",
   "metadata": {},
   "outputs": [
    {
     "data": {
      "text/plain": [
       "False"
      ]
     },
     "execution_count": 5,
     "metadata": {},
     "output_type": "execute_result"
    }
   ],
   "source": [
    "not ((5 > 4) or (3 == 5))\n",
    "# (5 > 4) is True, (3 == 5) is False so 'Or' operator works if anyone is True it gives you True. and \n",
    "# not(True or False) => not(True) => False.   \"not\" operator convert result into False."
   ]
  },
  {
   "cell_type": "code",
   "execution_count": 6,
   "id": "c7857fce",
   "metadata": {},
   "outputs": [
    {
     "data": {
      "text/plain": [
       "False"
      ]
     },
     "execution_count": 6,
     "metadata": {},
     "output_type": "execute_result"
    }
   ],
   "source": [
    "(True and True) and (True == False)\n",
    "# Step 1 (True and True) => True\n",
    "# Step 2 (True == False) => False\n",
    "# Step 2 True (Step 1 result)  and False (step 2 result) = False"
   ]
  },
  {
   "cell_type": "code",
   "execution_count": 10,
   "id": "db017997",
   "metadata": {},
   "outputs": [
    {
     "data": {
      "text/plain": [
       "True"
      ]
     },
     "execution_count": 10,
     "metadata": {},
     "output_type": "execute_result"
    }
   ],
   "source": [
    "(not False) or (not True)\n",
    "# Step 1 not False => True\n",
    "#  Step 2 not True => False\n",
    "#  True or False => True"
   ]
  },
  {
   "cell_type": "markdown",
   "id": "98c41cab",
   "metadata": {},
   "source": [
    "#### Q5. 5. What are the six comparison operators?"
   ]
  },
  {
   "cell_type": "markdown",
   "id": "d91786fd",
   "metadata": {},
   "source": [
    "In Python, there are six types of comparison operators:\n",
    "\n",
    "1. Less than (<)\n",
    "2. Greater than (>)\n",
    "3. Less than or equal to (<=)\n",
    "4. Greater than or equal to (>=)\n",
    "5. Equal to (==)\n",
    "6. Not equal to (!=)\n"
   ]
  },
  {
   "cell_type": "markdown",
   "id": "e9a947c1",
   "metadata": {},
   "source": [
    "#### Q6. How do you tell the difference between the equal to and assignment operators?Describe a condition and when you would use one."
   ]
  },
  {
   "cell_type": "markdown",
   "id": "3e630bc4",
   "metadata": {},
   "source": [
    "1- \"=\" is a assignment operator and \"==\" is a comparison operator.\n",
    "\n",
    "2-  \"=\" operator is used to assign value to a variable and \"==\" operator is used to compare two variable or constants.\n",
    "\n",
    "3- \"=\" operator can not be a constant, while for  \"==\"  operator both sides can be operator\n",
    "\n"
   ]
  },
  {
   "cell_type": "code",
   "execution_count": 11,
   "id": "90b1f2c2",
   "metadata": {},
   "outputs": [],
   "source": [
    "x = 10\n",
    "y = 33"
   ]
  },
  {
   "cell_type": "code",
   "execution_count": 17,
   "id": "4e99fc18",
   "metadata": {},
   "outputs": [
    {
     "name": "stdout",
     "output_type": "stream",
     "text": [
      "assign value x is  10 and y is 33\n"
     ]
    }
   ],
   "source": [
    "print(f\"assign value x is  {x} and y is {y}\")\n",
    "# \"=\" assign a value in variable x and y."
   ]
  },
  {
   "cell_type": "code",
   "execution_count": 18,
   "id": "71c20801",
   "metadata": {},
   "outputs": [
    {
     "name": "stdout",
     "output_type": "stream",
     "text": [
      "False\n"
     ]
    }
   ],
   "source": [
    "print(x == y)\n",
    "#  \"==\" is work for comparison between values. and gives a boolean result like True or False"
   ]
  },
  {
   "cell_type": "markdown",
   "id": "a1230230",
   "metadata": {},
   "source": [
    "#### Q7. Identify the three blocks in this code:\n"
   ]
  },
  {
   "cell_type": "raw",
   "id": "43b80ce4",
   "metadata": {},
   "source": [
    "spam = 0\n",
    "if spam == 10:\n",
    "print('eggs')\n",
    "if spam > 5:\n",
    "print('bacon')\n",
    "else:\n",
    "print('ham')\n",
    "print('spam')\n",
    "print('spam')\n"
   ]
  },
  {
   "cell_type": "code",
   "execution_count": 34,
   "id": "d80114d1",
   "metadata": {},
   "outputs": [
    {
     "name": "stdout",
     "output_type": "stream",
     "text": [
      "spam\n"
     ]
    }
   ],
   "source": [
    "spam = 0\n",
    "if spam == 10:\n",
    "    print('eggs')\n",
    "    if spam > 5:\n",
    "        print('bacon')\n",
    "    else:\n",
    "        print('ham')\n",
    "    print('spam')\n",
    "\n",
    "print('spam')\n"
   ]
  },
  {
   "cell_type": "markdown",
   "id": "06c9413f",
   "metadata": {},
   "source": [
    "#### Q8. Write code that prints Hello if 1 is stored in spam, prints Howdy if 2 is stored in spam, and prints Greetings! if anything else is stored in spam.\n"
   ]
  },
  {
   "cell_type": "code",
   "execution_count": 12,
   "id": "787267bc",
   "metadata": {},
   "outputs": [
    {
     "name": "stdout",
     "output_type": "stream",
     "text": [
      "1\n",
      "Hello\n"
     ]
    }
   ],
   "source": [
    "try:\n",
    "    spam = int(input())\n",
    "    if type(spam) == int:\n",
    "        if  int(spam) == 1:\n",
    "            print(\"Hello\")\n",
    "        elif int(spam) == 2:\n",
    "            print(\"Howdy\")\n",
    "        else:\n",
    "            print(\"Greeting!!\")\n",
    "\n",
    "except Exception as e:\n",
    "    print(\"Greeting!\")\n"
   ]
  },
  {
   "cell_type": "markdown",
   "id": "0062601a",
   "metadata": {},
   "source": [
    "#### Q9.If your programme is stuck in an endless loop, what keys you’ll press?"
   ]
  },
  {
   "cell_type": "markdown",
   "id": "21f81b35",
   "metadata": {},
   "source": [
    "\"Ctrl + C\" is stop a infinite loop"
   ]
  },
  {
   "cell_type": "markdown",
   "id": "57dd398d",
   "metadata": {},
   "source": [
    "#### Q10. How can you tell the difference between break and continue?"
   ]
  },
  {
   "cell_type": "code",
   "execution_count": 2,
   "id": "0f313aea",
   "metadata": {},
   "outputs": [
    {
     "name": "stdout",
     "output_type": "stream",
     "text": [
      "0\n",
      "1\n",
      "2\n",
      "3\n",
      "4\n"
     ]
    }
   ],
   "source": [
    "#  Break Loop\n",
    "for a in range(20):\n",
    "    if a == 5:\n",
    "        break\n",
    "    print(a)\n",
    "# When we are using a Break Statement then it comes  out of Loop."
   ]
  },
  {
   "cell_type": "code",
   "execution_count": 5,
   "id": "ae777422",
   "metadata": {},
   "outputs": [
    {
     "name": "stdout",
     "output_type": "stream",
     "text": [
      "0\n",
      "1\n",
      "2\n",
      "3\n",
      "4\n",
      "6\n",
      "7\n",
      "8\n",
      "9\n"
     ]
    }
   ],
   "source": [
    "for a in range(10):\n",
    "    if a == 5:\n",
    "        continue\n",
    "    print(a)\n",
    "\n",
    "# When we are using a Continue Statement then it does not come out of Loop. \n",
    "# when if condition is True then Continue set a iterator on an initial stage."
   ]
  },
  {
   "cell_type": "markdown",
   "id": "8ce9b496",
   "metadata": {},
   "source": [
    "#### Q11. In a for loop, what is the difference between range(10), range(0, 10), and range(0, 10, 1)?"
   ]
  },
  {
   "cell_type": "markdown",
   "id": "ed11dc58",
   "metadata": {},
   "source": [
    "Range fuction define range(start position, End Position, what diffrence btw starting to next number)\n",
    "Range function start a counting 0 to 10. but it is not count 10. and output shows that range(10) and range(0,10)"
   ]
  },
  {
   "cell_type": "code",
   "execution_count": 14,
   "id": "56ddcf88",
   "metadata": {},
   "outputs": [
    {
     "name": "stdout",
     "output_type": "stream",
     "text": [
      "0\n",
      "2\n",
      "4\n",
      "6\n",
      "8\n"
     ]
    }
   ],
   "source": [
    "for i in range(0,10,2):\n",
    "    print(i)"
   ]
  },
  {
   "cell_type": "markdown",
   "id": "e0e0d09e",
   "metadata": {},
   "source": [
    "#### Q12. Write a short program that prints the numbers 1 to 10 using a for loop. Then write an equivalent program that prints the numbers 1 to 10 using a while loop."
   ]
  },
  {
   "cell_type": "code",
   "execution_count": 16,
   "id": "9e044252",
   "metadata": {},
   "outputs": [
    {
     "name": "stdout",
     "output_type": "stream",
     "text": [
      "1\n",
      "2\n",
      "3\n",
      "4\n",
      "5\n",
      "6\n",
      "7\n",
      "8\n",
      "9\n",
      "10\n"
     ]
    }
   ],
   "source": [
    "for i in range(1,11):\n",
    "    print(i)"
   ]
  },
  {
   "cell_type": "code",
   "execution_count": 17,
   "id": "96de87e9",
   "metadata": {},
   "outputs": [
    {
     "name": "stdout",
     "output_type": "stream",
     "text": [
      "1\n",
      "2\n",
      "3\n",
      "4\n",
      "5\n",
      "6\n",
      "7\n",
      "8\n",
      "9\n",
      "10\n"
     ]
    }
   ],
   "source": [
    "i=1\n",
    "while i != 11:\n",
    "    print(i)\n",
    "    i+=1"
   ]
  },
  {
   "cell_type": "markdown",
   "id": "7669df94",
   "metadata": {},
   "source": [
    "#### Q13. If you had a function named bacon() inside a module named spam, how would you call it after importing spam?"
   ]
  },
  {
   "cell_type": "markdown",
   "id": "1d8fbb06",
   "metadata": {},
   "source": [
    "import spam\n",
    "spam.bacon()"
   ]
  }
 ],
 "metadata": {
  "kernelspec": {
   "display_name": "Python 3 (ipykernel)",
   "language": "python",
   "name": "python3"
  },
  "language_info": {
   "codemirror_mode": {
    "name": "ipython",
    "version": 3
   },
   "file_extension": ".py",
   "mimetype": "text/x-python",
   "name": "python",
   "nbconvert_exporter": "python",
   "pygments_lexer": "ipython3",
   "version": "3.9.12"
  }
 },
 "nbformat": 4,
 "nbformat_minor": 5
}
