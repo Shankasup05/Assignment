{
 "cells": [
  {
   "cell_type": "markdown",
   "id": "93ae42aa",
   "metadata": {},
   "source": [
    "### Q1. Why are functions advantageous to have in your programs?"
   ]
  },
  {
   "cell_type": "markdown",
   "id": "f7e669d1",
   "metadata": {},
   "source": [
    "Functions help reduce use of repetition code. It also shorter, easier to read and update."
   ]
  },
  {
   "cell_type": "code",
   "execution_count": 3,
   "id": "e9b273c0",
   "metadata": {},
   "outputs": [],
   "source": [
    "def fun():\n",
    "    return \"fun calls\""
   ]
  },
  {
   "cell_type": "code",
   "execution_count": 4,
   "id": "7e9f84dc",
   "metadata": {},
   "outputs": [
    {
     "data": {
      "text/plain": [
       "'fun calls'"
      ]
     },
     "execution_count": 4,
     "metadata": {},
     "output_type": "execute_result"
    }
   ],
   "source": [
    "fun()"
   ]
  },
  {
   "cell_type": "markdown",
   "id": "9eb2e9e7",
   "metadata": {},
   "source": [
    "### Q2. When does the code in a function run: when it's specified or when it's called?"
   ]
  },
  {
   "cell_type": "markdown",
   "id": "95e91176",
   "metadata": {},
   "source": [
    "when code function calls. we use def to define a function and create a name of function.\n",
    "whenever we called  a function using it's define name. "
   ]
  },
  {
   "cell_type": "markdown",
   "id": "f343ea22",
   "metadata": {},
   "source": [
    "### Q3. What statement creates a function?"
   ]
  },
  {
   "cell_type": "markdown",
   "id": "072e5d2a",
   "metadata": {},
   "source": [
    "The \"def\" statement defines (that is, creates) a function."
   ]
  },
  {
   "cell_type": "markdown",
   "id": "9a795189",
   "metadata": {},
   "source": [
    "### Q4. What is the difference between a function and a function call?"
   ]
  },
  {
   "cell_type": "markdown",
   "id": "2ee56a1d",
   "metadata": {},
   "source": [
    "A function is where we define a code for result.\n",
    "\n",
    "A function call is execute the function code and gives a result."
   ]
  },
  {
   "cell_type": "markdown",
   "id": "8a23c250",
   "metadata": {},
   "source": [
    "### Q5. How many global scopes are there in a Python program? How many local scopes?"
   ]
  },
  {
   "cell_type": "raw",
   "id": "dec05838",
   "metadata": {},
   "source": [
    "Global scopes define a outside of function we can use everywhere.\n",
    "Local scopes is use inside a function"
   ]
  },
  {
   "cell_type": "code",
   "execution_count": 17,
   "id": "dcaff03f",
   "metadata": {},
   "outputs": [],
   "source": [
    "a=10  # global value\n",
    "\n",
    "def val():\n",
    "    a = 5  #Local value\n",
    "    return a"
   ]
  },
  {
   "cell_type": "code",
   "execution_count": 18,
   "id": "1a7aea4b",
   "metadata": {},
   "outputs": [
    {
     "name": "stdout",
     "output_type": "stream",
     "text": [
      "5 10\n"
     ]
    }
   ],
   "source": [
    "x= val()\n",
    "print(x, a)"
   ]
  },
  {
   "cell_type": "markdown",
   "id": "7c37b7c5",
   "metadata": {},
   "source": [
    "### Q6. What happens to variables in a local scope when the function call returns? "
   ]
  },
  {
   "cell_type": "markdown",
   "id": "d68cf57b",
   "metadata": {},
   "source": [
    "when function calls then local scope show a result. when function return , local scope is destroyed and all the variables in it are forgotten."
   ]
  },
  {
   "cell_type": "markdown",
   "id": "87cbaf52",
   "metadata": {},
   "source": [
    "### Q7. What is the concept of a return value? Is it possible to have a return value in an expression?"
   ]
  },
  {
   "cell_type": "markdown",
   "id": "9fe8486c",
   "metadata": {},
   "source": [
    "Return value evaluate a value of function. function execute when return call and return value comes out the function."
   ]
  },
  {
   "cell_type": "markdown",
   "id": "678f2774",
   "metadata": {},
   "source": [
    "### Q8. If a function does not have a return statement, what is the return value of a call to that function?"
   ]
  },
  {
   "cell_type": "markdown",
   "id": "54669859",
   "metadata": {},
   "source": [
    "If there is no return statement for a function, its return value is None."
   ]
  },
  {
   "cell_type": "markdown",
   "id": "d32b6a2a",
   "metadata": {},
   "source": [
    "### Q9. How do you make a function variable refer to the global variable?"
   ]
  },
  {
   "cell_type": "markdown",
   "id": "4359ca6e",
   "metadata": {},
   "source": [
    "we can use global keywords to refer to variable content global value."
   ]
  },
  {
   "cell_type": "code",
   "execution_count": 44,
   "id": "cc8614d0",
   "metadata": {},
   "outputs": [],
   "source": [
    "a= 10\n",
    "def fun2():\n",
    "    global a\n",
    "    return a\n"
   ]
  },
  {
   "cell_type": "code",
   "execution_count": 46,
   "id": "29b3f6e0",
   "metadata": {},
   "outputs": [
    {
     "data": {
      "text/plain": [
       "10"
      ]
     },
     "execution_count": 46,
     "metadata": {},
     "output_type": "execute_result"
    }
   ],
   "source": [
    "x= fun2()\n",
    "x"
   ]
  },
  {
   "cell_type": "markdown",
   "id": "75fed937",
   "metadata": {},
   "source": [
    "### Q10. What is the data type of None?"
   ]
  },
  {
   "cell_type": "markdown",
   "id": "c3f03722",
   "metadata": {},
   "source": [
    "Data type of None is NoneType"
   ]
  },
  {
   "cell_type": "code",
   "execution_count": 47,
   "id": "31ad2a2b",
   "metadata": {},
   "outputs": [
    {
     "data": {
      "text/plain": [
       "NoneType"
      ]
     },
     "execution_count": 47,
     "metadata": {},
     "output_type": "execute_result"
    }
   ],
   "source": [
    "type(None)"
   ]
  },
  {
   "cell_type": "markdown",
   "id": "79477471",
   "metadata": {},
   "source": [
    "### Q11. What does the sentence import areallyourpetsnamederic do?"
   ]
  },
  {
   "cell_type": "markdown",
   "id": "8740a582",
   "metadata": {},
   "source": [
    "Import statement imports all module or file in this areallyourpetsnamederic Module"
   ]
  },
  {
   "cell_type": "markdown",
   "id": "a3ee2fd9",
   "metadata": {},
   "source": [
    "### Q12. If you had a bacon() feature in a spam module, what would you call it after importing spam?"
   ]
  },
  {
   "cell_type": "markdown",
   "id": "00762b18",
   "metadata": {},
   "source": [
    "This function can be called with spam.bacon()."
   ]
  },
  {
   "cell_type": "markdown",
   "id": "f17be73e",
   "metadata": {},
   "source": [
    "### Q13. What can you do to save a programme from crashing if it encounters an error?"
   ]
  },
  {
   "cell_type": "markdown",
   "id": "1d543d68",
   "metadata": {},
   "source": [
    "We use a try clause to help us crashing a Error"
   ]
  },
  {
   "cell_type": "markdown",
   "id": "8dc2ca8e",
   "metadata": {},
   "source": [
    "### Q14. What is the purpose of the try clause? What is the purpose of the except clause?"
   ]
  },
  {
   "cell_type": "markdown",
   "id": "65200a29",
   "metadata": {},
   "source": [
    "The code that could potentially cause an error goes in the try clause.\n",
    "\n",
    "The code that executes if an error happens goes in the except clause."
   ]
  },
  {
   "cell_type": "code",
   "execution_count": 57,
   "id": "7e53538a",
   "metadata": {},
   "outputs": [
    {
     "name": "stdout",
     "output_type": "stream",
     "text": [
      "Enter a two integer value with split comma= 1,0\n",
      "Error  division by zero\n"
     ]
    }
   ],
   "source": [
    "try:\n",
    "    a,b= input(\"Enter a two integer value with split comma= \" ).split(\",\")\n",
    "    r= int(a)/int(b)\n",
    "    print(r)\n",
    "except Exception as e:\n",
    "    print(\"Error \", e)"
   ]
  },
  {
   "cell_type": "code",
   "execution_count": null,
   "id": "f10429c9",
   "metadata": {},
   "outputs": [],
   "source": []
  }
 ],
 "metadata": {
  "kernelspec": {
   "display_name": "Python 3 (ipykernel)",
   "language": "python",
   "name": "python3"
  },
  "language_info": {
   "codemirror_mode": {
    "name": "ipython",
    "version": 3
   },
   "file_extension": ".py",
   "mimetype": "text/x-python",
   "name": "python",
   "nbconvert_exporter": "python",
   "pygments_lexer": "ipython3",
   "version": "3.9.12"
  }
 },
 "nbformat": 4,
 "nbformat_minor": 5
}
