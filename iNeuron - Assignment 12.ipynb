{
 "cells": [
  {
   "cell_type": "markdown",
   "id": "f3fafbd0",
   "metadata": {},
   "source": [
    "### Q1. In what modes should the PdfFileReader() and PdfFileWriter() File objects will be opened?"
   ]
  },
  {
   "cell_type": "code",
   "execution_count": 1,
   "id": "59addfb5",
   "metadata": {},
   "outputs": [
    {
     "name": "stdout",
     "output_type": "stream",
     "text": [
      "Collecting PyPDF2\n",
      "  Downloading PyPDF2-2.11.0-py3-none-any.whl (220 kB)\n",
      "Requirement already satisfied: typing-extensions>=3.10.0.0 in c:\\users\\shash\\anaconda3\\lib\\site-packages (from PyPDF2) (4.1.1)\n",
      "Installing collected packages: PyPDF2\n",
      "Successfully installed PyPDF2-2.11.0\n",
      "Note: you may need to restart the kernel to use updated packages.\n"
     ]
    }
   ],
   "source": [
    "pip install PyPDF2"
   ]
  },
  {
   "cell_type": "markdown",
   "id": "f2f0231f",
   "metadata": {},
   "source": [
    "These files will be opened in binary mode., read binary (rb) for PdfFileREader() and write binary (wb) PdfFileWriter()"
   ]
  },
  {
   "cell_type": "markdown",
   "id": "19aa95b6",
   "metadata": {},
   "source": [
    "### Q2. From a PdfFileReader object, how do you get a Page object for page 5?"
   ]
  },
  {
   "cell_type": "markdown",
   "id": "22f055b1",
   "metadata": {},
   "source": [
    "Calling getPage(4) will return a Page object for page 5 since page 0 is the first page"
   ]
  },
  {
   "cell_type": "code",
   "execution_count": 18,
   "id": "0f40533f",
   "metadata": {},
   "outputs": [],
   "source": [
    "import PyPDF2 as pdf\n",
    "\n",
    "with open(r\"E:\\python study\\pythoninterviewquestionsanswers.pdf\",'rb') as f:\n",
    "    pdfReader = pdf.PdfFileReader(f)\n",
    "    pageObj = pdfReader.getPage(4)\n",
    "    a= pageObj.extractText()"
   ]
  },
  {
   "cell_type": "code",
   "execution_count": 19,
   "id": "691940cc",
   "metadata": {},
   "outputs": [
    {
     "data": {
      "text/plain": [
       "'https://www.guru99.com  ---------------------------------------------------------------------------------------------------------------------------------------------  \\nIt is a Floor Divisionoperator , which is used for dividing two operands with the result as quotient showing only digits before the decimal point. For instance, 10//5 = 2 and 10.0//5.0 = 2.0.  33) Mention five benefits of using Python? \\n• Python comprises of a huge standard library for most Internet platforms like Email, HTML, etc. \\n• Python does not require explicit memory management as the interpreter itself allocates the memory to new variables and free them automatically \\n• Provide easy readability due to use of square brackets  \\n• Easy-to-learn for beginners \\n• Having the built-in data types saves programming time and effort from declaring variables  34) Mention the use of the split function in Python? The use of the split function in Python is that it breaks a string into shorter strings using the defined separator. It gives a list of all words present in the string.  35) Explain what is Flask & its benefits? Flask is a web micro framework for Python based on “Werkzeug, Jinja 2 and good intentions” BSD licensed. Werkzeug and jingja are two of its dependencies.  Flask is part of the micro-framework. Which means it will have little to no dependencies on external libraries.  It makes the framework light while there is little dependency to update and less security bugs. 36) Mention what is the difference between Django, Pyramid, and Flask?  Flask is a “microframework” primarily build for a small application with simpler requirements.   In flask, you have to use external libraries.  Flask is ready to use. Pyramid are build for larger applications.  It provides flexibility and lets the developer use the right tools for their project. The developer can choose the database,  URL structure, templating style and more. Pyramid is heavy configurable. Like Pyramid, Django can also used for larger applications.   It includes an ORM.  37) Mention what is Flask-WTF and what are their features? Flask-WTF offers simple integration with WTForms.  Features include for Flask WTF are \\n• Integration with wtforms \\n• Secure form with csrf token \\n• Global csrf protection \\n• Internationalization integration \\n• Recaptcha supporting \\n• File upload that works with Flask Uploads '"
      ]
     },
     "execution_count": 19,
     "metadata": {},
     "output_type": "execute_result"
    }
   ],
   "source": [
    "a"
   ]
  },
  {
   "cell_type": "markdown",
   "id": "0a18cee6",
   "metadata": {},
   "source": [
    "### Q3. What PdfFileReader variable stores the number of pages in the PDF document?"
   ]
  },
  {
   "cell_type": "markdown",
   "id": "89f35d39",
   "metadata": {},
   "source": [
    "The PdfFileReader.numPages variable stores an integer of the number of pages in the PdfFileReader object"
   ]
  },
  {
   "cell_type": "code",
   "execution_count": 12,
   "id": "7b1ebe0c",
   "metadata": {},
   "outputs": [],
   "source": [
    "import PyPDF2 as pdf\n",
    "\n",
    "with open(r\"E:\\python study\\pythoninterviewquestionsanswers.pdf\",'rb') as f:\n",
    "    pdfreader = pdf.PdfFileReader(f)\n",
    "    count= pdfreader.numPages"
   ]
  },
  {
   "cell_type": "code",
   "execution_count": 13,
   "id": "17898d0e",
   "metadata": {},
   "outputs": [
    {
     "data": {
      "text/plain": [
       "8"
      ]
     },
     "execution_count": 13,
     "metadata": {},
     "output_type": "execute_result"
    }
   ],
   "source": [
    "count"
   ]
  },
  {
   "cell_type": "markdown",
   "id": "7fac3b75",
   "metadata": {},
   "source": [
    "### Q4. If a PdfFileReader object’s PDF is encrypted with the password swordfish, what must you do before you can obtain Page objects from it?"
   ]
  },
  {
   "cell_type": "markdown",
   "id": "c2f15d72",
   "metadata": {},
   "source": [
    "do before we obtain the page object, the pdf has to be decrypted by calling .decrypt('swordfish')"
   ]
  },
  {
   "cell_type": "code",
   "execution_count": 14,
   "id": "6db82ce7",
   "metadata": {},
   "outputs": [],
   "source": [
    "#pdfReader.decrypt('swordfish')"
   ]
  },
  {
   "cell_type": "markdown",
   "id": "c1b26504",
   "metadata": {},
   "source": [
    "### Q5. What methods do you use to rotate a page?"
   ]
  },
  {
   "cell_type": "markdown",
   "id": "aff79780",
   "metadata": {},
   "source": [
    "The rotateClockwise() and rotateCounterClockwise() methods. The degrees to rotate is passed as an integer argument"
   ]
  },
  {
   "cell_type": "raw",
   "id": "94cb6fc7",
   "metadata": {},
   "source": [
    "import PyPDF2 as pdf\n",
    "\n",
    "with open(r\"E:\\python study\\pythoninterviewquestionsanswers.pdf\",'rb') as f:\n",
    "    pdfreader = pdf.PdfFileReader(f)\n",
    "    pdfwriter = pdf.PdfFileWriter()\n",
    "    for i in range(pdfreader.getNumPages()):\n",
    "        page = pdfreader.getPage(i)\n",
    "        page.rotateClockwise(180)\n",
    "        pdfwriter.addPage(page)\n",
    "rotatepdf= open(r\"E:\\python study\\rotatepdf.pdf\", 'wb')\n",
    "pdfwriter.write(rotatepdf)\n",
    "rotatepdf.close()"
   ]
  },
  {
   "cell_type": "markdown",
   "id": "ef9d27d2",
   "metadata": {},
   "source": [
    "### Q6. What is the difference between a Run object and a Paragraph object?"
   ]
  },
  {
   "cell_type": "markdown",
   "id": "5063a1dc",
   "metadata": {},
   "source": [
    "Paragraph Object :  A document contains multiple paragraphs. A paragraph begins on a new line and contains multiple \n",
    "runs. \n",
    "The Document object contains a list of Paragraph objects for the paragraphs in the document. (A new paragraph begins \n",
    "whenever the user presses ENTER or RETURN while typing in a Word document.)\n",
    "\n",
    "Run Objects :\n",
    "Runs are contiguous groups of characters within a paragraph with the same style"
   ]
  },
  {
   "cell_type": "markdown",
   "id": "7b559509",
   "metadata": {},
   "source": [
    "### Q7. How do you obtain a list of Paragraph objects for a Document object that’s stored in a variable named doc?"
   ]
  },
  {
   "cell_type": "markdown",
   "id": "21d2f039",
   "metadata": {},
   "source": [
    "Using doc.paragraphs"
   ]
  },
  {
   "cell_type": "code",
   "execution_count": 4,
   "id": "ee276f24",
   "metadata": {},
   "outputs": [],
   "source": [
    "# !pip install python-docx"
   ]
  },
  {
   "cell_type": "code",
   "execution_count": 6,
   "id": "ae37be0e",
   "metadata": {},
   "outputs": [],
   "source": [
    "import docx\n",
    "doc = docx.Document(r'E:\\data science course\\Preleaf by Masai Data Analytics  Curriculum.docx')\n",
    "doc.paragraphs"
   ]
  },
  {
   "cell_type": "markdown",
   "id": "e2489e8c",
   "metadata": {},
   "source": [
    "### Q8. What type of object has bold, underline, italic, strike, and outline variables?"
   ]
  },
  {
   "cell_type": "markdown",
   "id": "241dbcc9",
   "metadata": {},
   "source": [
    "A Run object has bold, underline,italic,strike and outline variables (not a Paragraph)."
   ]
  },
  {
   "cell_type": "markdown",
   "id": "11897080",
   "metadata": {},
   "source": [
    "### Q9. What is the difference between False, True, and None for the bold variable?"
   ]
  },
  {
   "cell_type": "markdown",
   "id": "5cbc7780",
   "metadata": {},
   "source": [
    "Runs can be further styled using text attributes. Each attribute can be set to one of three values: \n",
    "\n",
    "True => the attribute is always enabled, no matter what other styles are applied to the run, \n",
    "\n",
    "False => the attribute is always disabled,\n",
    "\n",
    "None => defaults to whatever the run’s style is set to\n",
    "\n",
    "True always makes the Run object bolded and False makes it always not bolded, \n",
    "\n",
    "no matter what the style’s bold setting is. None will make the Run object just use the style’s bold setting"
   ]
  },
  {
   "cell_type": "markdown",
   "id": "4b791517",
   "metadata": {},
   "source": [
    "### Q10. How do you create a Document object for a new Word document?"
   ]
  },
  {
   "cell_type": "markdown",
   "id": "9a4e98ac",
   "metadata": {},
   "source": [
    "By Calling the docx.Document() function."
   ]
  },
  {
   "cell_type": "markdown",
   "id": "360e594e",
   "metadata": {},
   "source": [
    "### Q11. How do you add a paragraph with the text &#39;Hello, there!&#39; to a Document object stored in a variable named doc?"
   ]
  },
  {
   "cell_type": "raw",
   "id": "e2f08726",
   "metadata": {},
   "source": [
    "import docx\n",
    "doc = docx.Document()\n",
    "doc.add_paragraph('Hello there!')\n",
    "doc.save('hello.docx')"
   ]
  },
  {
   "cell_type": "markdown",
   "id": "63f4363e",
   "metadata": {},
   "source": [
    "### Q12. What integers represent the levels of headings available in Word documents?"
   ]
  },
  {
   "cell_type": "markdown",
   "id": "1e43bd4a",
   "metadata": {},
   "source": [
    "integer from 0 to 4\n",
    "\n",
    "The arguments to add_heading() are a string of the heading text and an integer from 0 to 4. The integer 0 makes the heading the Title style, which is used for the top of the document. Integers 1 to 4 are for various heading levels, with 1 being the main heading and 4 the lowest subheading"
   ]
  },
  {
   "cell_type": "code",
   "execution_count": null,
   "id": "3c73b4dc",
   "metadata": {},
   "outputs": [],
   "source": []
  }
 ],
 "metadata": {
  "kernelspec": {
   "display_name": "Python 3 (ipykernel)",
   "language": "python",
   "name": "python3"
  },
  "language_info": {
   "codemirror_mode": {
    "name": "ipython",
    "version": 3
   },
   "file_extension": ".py",
   "mimetype": "text/x-python",
   "name": "python",
   "nbconvert_exporter": "python",
   "pygments_lexer": "ipython3",
   "version": "3.9.12"
  }
 },
 "nbformat": 4,
 "nbformat_minor": 5
}
