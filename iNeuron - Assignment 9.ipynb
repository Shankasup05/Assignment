{
 "cells": [
  {
   "cell_type": "markdown",
   "id": "f98c0b79",
   "metadata": {},
   "source": [
    "### Q1. To what does a relative path refer?"
   ]
  },
  {
   "cell_type": "markdown",
   "id": "7b7fd974",
   "metadata": {},
   "source": [
    "A relative path is current working directory.(PWD)"
   ]
  },
  {
   "cell_type": "markdown",
   "id": "f15df392",
   "metadata": {},
   "source": [
    "### Q2. What does an absolute path start with your operating system?"
   ]
  },
  {
   "cell_type": "markdown",
   "id": "f02dc8f1",
   "metadata": {},
   "source": [
    "An absolute path is  unique path in operating system. An absolute path is defined as the specifying the location of a file or directory from the root directory (/). Start at the root directory ( / )"
   ]
  },
  {
   "cell_type": "markdown",
   "id": "c01378b7",
   "metadata": {},
   "source": [
    "### Q3. What do the functions os.getcwd() and os.chdir() do?"
   ]
  },
  {
   "cell_type": "markdown",
   "id": "63145026",
   "metadata": {},
   "source": [
    "os.getcwd() -> it shows you current working directory. full form of getcwd - get current working directory,getcwd shows right now python run which location."
   ]
  },
  {
   "cell_type": "markdown",
   "id": "e44536e8",
   "metadata": {},
   "source": [
    "os.chdir() takes input of a new path location. and change directory present location to new path location. chdir fullform - change directory"
   ]
  },
  {
   "cell_type": "markdown",
   "id": "81e242ed",
   "metadata": {},
   "source": [
    "### Q4. What are the . and .. folders?"
   ]
  },
  {
   "cell_type": "markdown",
   "id": "7c77b8a2",
   "metadata": {},
   "source": [
    "The . is the current directory, while .. signifies the parent directory."
   ]
  },
  {
   "cell_type": "markdown",
   "id": "63a40bd9",
   "metadata": {},
   "source": [
    "### Q5. In C:\\bacon\\eggs\\spam.txt, which part is the dir name, and which part is the base name?"
   ]
  },
  {
   "cell_type": "markdown",
   "id": "269bfcbc",
   "metadata": {},
   "source": [
    "dir name - where store a file or folder name which store file. dir name is C:\\bacon\\eggs\n",
    "os.path.dirname() can be used to extract dir name form path. "
   ]
  },
  {
   "cell_type": "code",
   "execution_count": 12,
   "id": "6a16d56d",
   "metadata": {},
   "outputs": [
    {
     "data": {
      "text/plain": [
       "'c:\\\\users\\\\shash\\\\anaconda3\\\\lib'"
      ]
     },
     "execution_count": 12,
     "metadata": {},
     "output_type": "execute_result"
    }
   ],
   "source": [
    "import os\n",
    "os.path.dirname(r'c:\\users\\shash\\anaconda3\\lib\\ntpath.py')\n"
   ]
  },
  {
   "cell_type": "markdown",
   "id": "e19ace76",
   "metadata": {},
   "source": [
    "The basename is the final rightmost segment of the file path . In the above path base name is spam.txt. os.path.basename() can be used to extract base name from the path."
   ]
  },
  {
   "cell_type": "code",
   "execution_count": 14,
   "id": "d2710157",
   "metadata": {},
   "outputs": [
    {
     "data": {
      "text/plain": [
       "'ntpath.py'"
      ]
     },
     "execution_count": 14,
     "metadata": {},
     "output_type": "execute_result"
    }
   ],
   "source": [
    "import os \n",
    "os.path.basename(r'c:\\users\\shash\\anaconda3\\lib\\ntpath.py')"
   ]
  },
  {
   "cell_type": "markdown",
   "id": "c5b0dedd",
   "metadata": {},
   "source": [
    "### Q6. What are the three “mode” arguments that can be passed to the open() function?"
   ]
  },
  {
   "cell_type": "markdown",
   "id": "4da9ad2a",
   "metadata": {},
   "source": [
    "Read, Write and Append function passed in open() function.\n",
    "'r' Open a file for reading.\n",
    "\n",
    "'w' Open a file for writing. Creates a new file if it does not exist\n",
    "\n",
    "'a' Open for appending at the end of the file and Creates a new file if it does not exist.\n",
    "\n",
    "'+' Open a file for updating (reading and writing)\n",
    "    \n"
   ]
  },
  {
   "cell_type": "markdown",
   "id": "92f4116c",
   "metadata": {},
   "source": [
    "### Q7. What happens if an existing file is opened in write mode?"
   ]
  },
  {
   "cell_type": "markdown",
   "id": "bfcef282",
   "metadata": {},
   "source": [
    "when existing file open in write mode, content present in file is overwritten when pass a new content "
   ]
  },
  {
   "cell_type": "markdown",
   "id": "6b6fa522",
   "metadata": {},
   "source": [
    "### Q8. How do you tell the difference between read() and readlines()?"
   ]
  },
  {
   "cell_type": "markdown",
   "id": "8301eb65",
   "metadata": {},
   "source": [
    "read() reads the entire contents of the file into a string. \n",
    "\n",
    "readline() just reads file till the next line."
   ]
  },
  {
   "cell_type": "markdown",
   "id": "23b92be4",
   "metadata": {},
   "source": [
    "### Q9. What data structure does a shelf value resemble?"
   ]
  },
  {
   "cell_type": "markdown",
   "id": "793252e7",
   "metadata": {},
   "source": [
    "A shelf value resembles a dictionary value; it has keys and values, along with keys() and values() methods that work similarly to the dictionary methods of the same names."
   ]
  },
  {
   "cell_type": "code",
   "execution_count": null,
   "id": "90b3117a",
   "metadata": {},
   "outputs": [],
   "source": []
  }
 ],
 "metadata": {
  "kernelspec": {
   "display_name": "Python 3 (ipykernel)",
   "language": "python",
   "name": "python3"
  },
  "language_info": {
   "codemirror_mode": {
    "name": "ipython",
    "version": 3
   },
   "file_extension": ".py",
   "mimetype": "text/x-python",
   "name": "python",
   "nbconvert_exporter": "python",
   "pygments_lexer": "ipython3",
   "version": "3.9.12"
  }
 },
 "nbformat": 4,
 "nbformat_minor": 5
}
