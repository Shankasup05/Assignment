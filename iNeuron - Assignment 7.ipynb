{
 "cells": [
  {
   "cell_type": "markdown",
   "id": "4c326e80",
   "metadata": {},
   "source": [
    "### Q1. What is the name of the feature responsible for generating Regex objects?"
   ]
  },
  {
   "cell_type": "markdown",
   "id": "6e7927dd",
   "metadata": {},
   "source": [
    "import re\n",
    "\n",
    "the re.compile() function regex objects."
   ]
  },
  {
   "cell_type": "code",
   "execution_count": 43,
   "id": "4b6aeee1",
   "metadata": {},
   "outputs": [
    {
     "data": {
      "text/plain": [
       "re.compile(r'\\dsdsfsd', re.UNICODE)"
      ]
     },
     "execution_count": 43,
     "metadata": {},
     "output_type": "execute_result"
    }
   ],
   "source": [
    "import re\n",
    "re.compile(\"\\dsdsfsd\")"
   ]
  },
  {
   "cell_type": "markdown",
   "id": "43b31929",
   "metadata": {},
   "source": [
    "### Q2. Why do raw strings often appear in Regex objects?"
   ]
  },
  {
   "cell_type": "markdown",
   "id": "51adeecf",
   "metadata": {},
   "source": [
    "Raw string uses because backslashs do not have to be escape"
   ]
  },
  {
   "cell_type": "markdown",
   "id": "9e00ee11",
   "metadata": {},
   "source": [
    "### Q3. What is the return value of the search() method?"
   ]
  },
  {
   "cell_type": "markdown",
   "id": "73b2f9ee",
   "metadata": {},
   "source": [
    "Search() method uses search a specified value in string and position of match. Search value is string and regular expression.\n",
    "This method return -1 if no match found."
   ]
  },
  {
   "cell_type": "markdown",
   "id": "9a0432f1",
   "metadata": {},
   "source": [
    "### Q4. From a Match item, how do you get the actual strings that match the pattern?"
   ]
  },
  {
   "cell_type": "code",
   "execution_count": 9,
   "id": "f6155e87",
   "metadata": {},
   "outputs": [
    {
     "name": "stdout",
     "output_type": "stream",
     "text": [
      "Email IDs-  <re.Match object; span=(22, 50), match='iNeuron123_shud@ineuron12.ai'>\n"
     ]
    }
   ],
   "source": [
    "import re\n",
    "a= (\"This is my Gmail ID - iNeuron123_shud@ineuron12.ai\")\n",
    "emailId = re.compile(r'\\w*@\\w*\\.[a-z]{2,3}')\n",
    "Email = emailId.search(a)\n",
    "print(\"Email IDs-  \" + str(Email))"
   ]
  },
  {
   "cell_type": "markdown",
   "id": "1bd145c0",
   "metadata": {},
   "source": [
    "### Q5. In the regex which created from the r&#39;(\\d\\d\\d)-(\\d\\d\\d-\\d\\d\\d\\d)&#39;, what does group zero cover?Group 2? Group 1?"
   ]
  },
  {
   "cell_type": "raw",
   "id": "db341ab4",
   "metadata": {},
   "source": [
    "regex: (\\d\\d\\d)-(\\d\\d\\d-\\d\\d\\d\\d) \n",
    "The first part of parentheses in a regex string will be group 1. \n",
    "The second part will be group 2. By passing the integer 1 or 2 to the group() match object method, \n",
    "you can grab different parts of the matched text. \n",
    "Passing 0 or nothing to the group() method will return the entire matched text"
   ]
  },
  {
   "cell_type": "code",
   "execution_count": 37,
   "id": "e8c9ec3c",
   "metadata": {},
   "outputs": [
    {
     "data": {
      "text/plain": [
       "'012'"
      ]
     },
     "execution_count": 37,
     "metadata": {},
     "output_type": "execute_result"
    }
   ],
   "source": [
    "phoneNumRegex = re.compile(r'(\\d\\d\\d)-(\\d\\d\\d-\\d\\d\\d\\d)')\n",
    "mo = phoneNumRegex.search('My number is 012-333-3424')\n",
    "mo.group(1)"
   ]
  },
  {
   "cell_type": "code",
   "execution_count": 38,
   "id": "fca25bf2",
   "metadata": {},
   "outputs": [
    {
     "data": {
      "text/plain": [
       "'012-333-3424'"
      ]
     },
     "execution_count": 38,
     "metadata": {},
     "output_type": "execute_result"
    }
   ],
   "source": [
    "mo.group()"
   ]
  },
  {
   "cell_type": "code",
   "execution_count": 39,
   "id": "71c1578d",
   "metadata": {},
   "outputs": [
    {
     "data": {
      "text/plain": [
       "'333-3424'"
      ]
     },
     "execution_count": 39,
     "metadata": {},
     "output_type": "execute_result"
    }
   ],
   "source": [
    "mo.group(2)"
   ]
  },
  {
   "cell_type": "code",
   "execution_count": 40,
   "id": "5d2e240a",
   "metadata": {},
   "outputs": [
    {
     "data": {
      "text/plain": [
       "'012-333-3424'"
      ]
     },
     "execution_count": 40,
     "metadata": {},
     "output_type": "execute_result"
    }
   ],
   "source": [
    "mo.group(0)"
   ]
  },
  {
   "cell_type": "markdown",
   "id": "4aacf6c0",
   "metadata": {},
   "source": [
    "### Q6. In standard expression syntax, parentheses and intervals have distinct meanings. How can you tell a regex that you want it to fit real parentheses and periods?"
   ]
  },
  {
   "cell_type": "raw",
   "id": "240598b9",
   "metadata": {},
   "source": [
    "Periods and parentheses can be escaped with a backslash:  \\., \\(, and \\)."
   ]
  },
  {
   "cell_type": "markdown",
   "id": "5a59d461",
   "metadata": {},
   "source": [
    "### Q7. The findall() method returns a string list or a list of string tuples. What causes it to return one of the two options?"
   ]
  },
  {
   "cell_type": "markdown",
   "id": "6017bec8",
   "metadata": {},
   "source": [
    "If the regex has no groups, a list of strings is returned. If the regex has groups, a list of tuples of strings is \n",
    "returned."
   ]
  },
  {
   "cell_type": "code",
   "execution_count": 17,
   "id": "4f685387",
   "metadata": {},
   "outputs": [],
   "source": [
    "a= \"1 mail id- abhishekti478@gmail.com, 2 mail id- aditya.ranjan09@gmail.com, 3- adityabose7@gmail.com,akhileshbhambhani@gmail.com,akrajawat20@gmail.com,aksandhu90@gmail.com,akshayshahu000@gmail.com,aloky836@gmail.com,am27491@gmail.com,amarjun7@gmail.com,amarpritsingh1989@gmail.com,amit.harbola11@gmail.com,anandrungta27@gmail.com,anandsingh3k@gmail.com,aneeshbanyal2011@gmail.com,anilsasmal15@gmail.com,anoop971@gmail.com,anuj8315@gmail.com,arkindia4@gmail.com,arunthakur0g19@gmail.com,ashishvedula@gmail.com,ashraf.btech406@gmail.com,ashu.rock25@gmail.com,ashu2712.priya@gmail.com,atripathi27@gmail.com,atulkarki1991@gmail.com,bishnuroy72@gmail.com,bpnkesharwani@gmail.com,chimanchandra23@gmail.com,daljeet.kalsi1989@gmail.com,dameet6@gmail.com and deepakjh69@gmail.com\"\n",
    "\n",
    "b = re.findall(\"\\w*\\.\\w*@\\w*\\.[a-z]{2,3}\", a,0)\n",
    "c = re.findall(\"\\w*@\\w*\\.[a-z]{2,3}\", a,0)"
   ]
  },
  {
   "cell_type": "code",
   "execution_count": 20,
   "id": "0d682119",
   "metadata": {},
   "outputs": [
    {
     "data": {
      "text/plain": [
       "['aditya.ranjan09@gmail.com',\n",
       " 'amit.harbola11@gmail.com',\n",
       " 'ashraf.btech406@gmail.com',\n",
       " 'ashu.rock25@gmail.com',\n",
       " 'ashu2712.priya@gmail.com',\n",
       " 'daljeet.kalsi1989@gmail.com']"
      ]
     },
     "execution_count": 20,
     "metadata": {},
     "output_type": "execute_result"
    }
   ],
   "source": [
    "b"
   ]
  },
  {
   "cell_type": "markdown",
   "id": "3f90d68e",
   "metadata": {},
   "source": [
    "### Q8. In standard expressions, what does the | character mean?"
   ]
  },
  {
   "cell_type": "markdown",
   "id": "10bacb89",
   "metadata": {},
   "source": [
    "The | character is called a pipe. You can use it anywhere you want to match one of many expressions. \n",
    "For example, the regular expression r'Banana|Apple Fruit' will match either 'Banana' or 'Apple Fruit'.\n",
    "\n",
    "When both Banana and Apple Fruit occur in the searched string, the first occurrence of matching text will be \n",
    "returned as the Match object.\n",
    "\n",
    "The | character signifies matching “either, or” between two groups"
   ]
  },
  {
   "cell_type": "code",
   "execution_count": 64,
   "id": "e46f8dca",
   "metadata": {},
   "outputs": [
    {
     "data": {
      "text/plain": [
       "'mobile'"
      ]
     },
     "execution_count": 64,
     "metadata": {},
     "output_type": "execute_result"
    }
   ],
   "source": [
    "import re\n",
    "batRegex = re.compile(r'Bat(man|(copter|mobile|bat))')\n",
    "mo = batRegex.search('Batmobile lost a bat wheel')\n",
    "\n",
    "mo.group(1) # 'mobile'"
   ]
  },
  {
   "cell_type": "code",
   "execution_count": 65,
   "id": "5dcfa966",
   "metadata": {},
   "outputs": [
    {
     "data": {
      "text/plain": [
       "'Batmobile'"
      ]
     },
     "execution_count": 65,
     "metadata": {},
     "output_type": "execute_result"
    }
   ],
   "source": [
    "mo.group() # 'Batmobile'"
   ]
  },
  {
   "cell_type": "code",
   "execution_count": 66,
   "id": "a2b76099",
   "metadata": {},
   "outputs": [
    {
     "data": {
      "text/plain": [
       "'mobile'"
      ]
     },
     "execution_count": 66,
     "metadata": {},
     "output_type": "execute_result"
    }
   ],
   "source": [
    "mo.group(2)"
   ]
  },
  {
   "cell_type": "markdown",
   "id": "763e095b",
   "metadata": {},
   "source": [
    "### Q9. In regular expressions, what does the ? character stand for?"
   ]
  },
  {
   "cell_type": "markdown",
   "id": "5679f6e8",
   "metadata": {},
   "source": [
    "The ? character can either mean “match zero or one of the preceding group”.\n",
    "\n",
    "∙ Specifies the non-greedy versions of *, +\n",
    "\n",
    "∙ Introduces a lookahead or lookbehind assertion\n",
    "\n",
    "∙ Creates a named group"
   ]
  },
  {
   "cell_type": "markdown",
   "id": "0bd57de6",
   "metadata": {},
   "source": [
    "### Q10.In regular expressions, what is the difference between the + and * characters?"
   ]
  },
  {
   "cell_type": "markdown",
   "id": "f3ba46c6",
   "metadata": {},
   "source": [
    "The + matches one or more. \n",
    "\n",
    "The * matches zero or more"
   ]
  },
  {
   "cell_type": "markdown",
   "id": "e0fc4e4f",
   "metadata": {},
   "source": [
    "### Q11. What is the difference between {4} and {4,5} in regular expression?"
   ]
  },
  {
   "cell_type": "markdown",
   "id": "6682b4a3",
   "metadata": {},
   "source": [
    "The {3} matches exactly three instances of the preceding group.\n",
    "\n",
    "The {3,5} matches between three and five instances"
   ]
  },
  {
   "cell_type": "markdown",
   "id": "78436c76",
   "metadata": {},
   "source": [
    "### Q12. What do you mean by the \\d, \\w, and \\s shorthand character classes signify in regular expressions?"
   ]
  },
  {
   "cell_type": "markdown",
   "id": "f249090f",
   "metadata": {},
   "source": [
    "\\d -> stands for single digit between 0 to 9\n",
    "\n",
    "\\w -> stands for single word between [a-z] or [A-Z], Any letter, numeric digit [0-9], or the underscore character[_]. (Think of this as matching “word” \n",
    "characters.)\n",
    "\n",
    "\\s  -> stands for single space character, Any space, tab, or newline character. (Think of this as matching “space” \n",
    "characters.)"
   ]
  },
  {
   "cell_type": "markdown",
   "id": "818ba386",
   "metadata": {},
   "source": [
    "### Q13. What do means by \\D, \\W, and \\S shorthand character classes signify in regular expressions?"
   ]
  },
  {
   "cell_type": "markdown",
   "id": "0f264e69",
   "metadata": {},
   "source": [
    "\\D - > Any character that is not a numeric digit between [0-9].\n",
    "\n",
    "\\W - > Any character that is not a letter[a-z][A-Z], numeric digit[0-9], or the underscore character '\\_'.\n",
    "\n",
    "\\S - > Any character that is not a space, tab, or newline."
   ]
  },
  {
   "cell_type": "markdown",
   "id": "9c9a205b",
   "metadata": {},
   "source": [
    "### Q14. What is the difference between [. * ? and . * ] ?"
   ]
  },
  {
   "cell_type": "markdown",
   "id": "18885518",
   "metadata": {},
   "source": [
    ".*?   - > To match any and all text in a non-greedy fashion, use the dot, star, and question mark (.*?). Like with braces, \n",
    "the question mark tells Python to match in a non-greedy way.\n",
    "\n",
    ".*   - > The dot-star uses greedy mode: It will always try to match as much text as possible."
   ]
  },
  {
   "cell_type": "code",
   "execution_count": 1,
   "id": "b0c502f5",
   "metadata": {},
   "outputs": [
    {
     "data": {
      "text/plain": [
       "'<div id=\"MathJax_Hidden\"><div id=\"MathJax_Message\" style=\"display: none;\"></div> ssdsd<noscript> <div id=\"noscript\">'"
      ]
     },
     "execution_count": 1,
     "metadata": {},
     "output_type": "execute_result"
    }
   ],
   "source": [
    "d = (r'<div id=\"MathJax_Hidden\"><div id=\"MathJax_Message\" style=\"display: none;\"></div> ssdsd<noscript> <div id=\"noscript\">')\n",
    "import re\n",
    "greedy_mode = re.compile(r'<.*>')\n",
    "gm = greedy_mode.search(d)\n",
    "gm.group()"
   ]
  },
  {
   "cell_type": "code",
   "execution_count": 2,
   "id": "0adeb400",
   "metadata": {},
   "outputs": [
    {
     "data": {
      "text/plain": [
       "'<div id=\"MathJax_Hidden\">'"
      ]
     },
     "execution_count": 2,
     "metadata": {},
     "output_type": "execute_result"
    }
   ],
   "source": [
    "d = (r'<div id=\"MathJax_Hidden\"><div id=\"MathJax_Message\" style=\"display: none;\"></div> ssdsd<noscript> <div id=\"noscript\">')\n",
    "import re\n",
    "nonGreedy_mode = re.compile(r'<.*?>')\n",
    "gm = nonGreedy_mode.search(d)\n",
    "gm.group()"
   ]
  },
  {
   "cell_type": "markdown",
   "id": "72f365e6",
   "metadata": {},
   "source": [
    "### Q15. What is the syntax for matching both numbers and lowercase letters with a character class?"
   ]
  },
  {
   "cell_type": "markdown",
   "id": "7cf29f28",
   "metadata": {},
   "source": [
    "Either [0-9a-z] or [a-z0-9]"
   ]
  },
  {
   "cell_type": "code",
   "execution_count": 16,
   "id": "61a838ee",
   "metadata": {},
   "outputs": [
    {
     "data": {
      "text/plain": [
       "'n'"
      ]
     },
     "execution_count": 16,
     "metadata": {},
     "output_type": "execute_result"
    }
   ],
   "source": [
    "reg1 = re.compile(r'[0-9a-z]')\n",
    "reg2 = re.compile(r'[a-z0-9]')\n",
    "\n",
    "mo1 = reg1.search('One1 Two2 three3 four4')\n",
    "mo2 = reg1.search('1One 2Two 3three 4four')\n",
    "mo1.group()\n"
   ]
  },
  {
   "cell_type": "code",
   "execution_count": 15,
   "id": "11e5d0d0",
   "metadata": {},
   "outputs": [
    {
     "data": {
      "text/plain": [
       "'1'"
      ]
     },
     "execution_count": 15,
     "metadata": {},
     "output_type": "execute_result"
    }
   ],
   "source": [
    "mo2.group()"
   ]
  },
  {
   "cell_type": "code",
   "execution_count": 20,
   "id": "01c6b92b",
   "metadata": {},
   "outputs": [
    {
     "data": {
      "text/plain": [
       "'n'"
      ]
     },
     "execution_count": 20,
     "metadata": {},
     "output_type": "execute_result"
    }
   ],
   "source": [
    "reg1 = re.compile(r'[0-9a-z]')\n",
    "reg2 = re.compile(r'[a-z0-9]')\n",
    "\n",
    "mo3= reg2.search('One1 Two2 three3 four4')\n",
    "mo4 = reg2.search('1One 2Two 3three 4four')\n",
    "mo3.group()\n"
   ]
  },
  {
   "cell_type": "code",
   "execution_count": 21,
   "id": "79fd3d90",
   "metadata": {},
   "outputs": [
    {
     "data": {
      "text/plain": [
       "'1'"
      ]
     },
     "execution_count": 21,
     "metadata": {},
     "output_type": "execute_result"
    }
   ],
   "source": [
    "mo4.group()"
   ]
  },
  {
   "cell_type": "markdown",
   "id": "371b1d68",
   "metadata": {},
   "source": [
    "### Q16. What is the procedure for making a normal expression in regax case insensitive?"
   ]
  },
  {
   "cell_type": "markdown",
   "id": "bed5df0a",
   "metadata": {},
   "source": [
    "Insert re.I or re.IGNORECASE as the second argument to re.compile() will make the matching case insensitive"
   ]
  },
  {
   "cell_type": "code",
   "execution_count": 25,
   "id": "407a2be6",
   "metadata": {},
   "outputs": [
    {
     "data": {
      "text/plain": [
       "'ABC'"
      ]
     },
     "execution_count": 25,
     "metadata": {},
     "output_type": "execute_result"
    }
   ],
   "source": [
    "casesen = re.compile(r'abc', re.I)\n",
    "casesen.search('ABCabcdefGHIabcABC').group()"
   ]
  },
  {
   "cell_type": "code",
   "execution_count": 28,
   "id": "3db26f40",
   "metadata": {},
   "outputs": [
    {
     "data": {
      "text/plain": [
       "'aBc'"
      ]
     },
     "execution_count": 28,
     "metadata": {},
     "output_type": "execute_result"
    }
   ],
   "source": [
    "casesen.search('aBcAbC').group()"
   ]
  },
  {
   "cell_type": "markdown",
   "id": "594b236d",
   "metadata": {},
   "source": [
    "### Q17. What does the . character normally match? What does it match if re.DOTALL is passed as 2nd argument in re.compile()?"
   ]
  },
  {
   "cell_type": "markdown",
   "id": "ef839b9b",
   "metadata": {},
   "source": [
    "The . character normally matches any character except the newline character. \n",
    "\n",
    "If re.DOTALL is passed as the second argument to re.compile(), then the dot will also match newline characters."
   ]
  },
  {
   "cell_type": "markdown",
   "id": "a065b226",
   "metadata": {},
   "source": [
    "### Q18. If numReg = re.compile(r&#39;\\d+&#39;), what will numRegex.sub(&#39;X&#39;, &#39;11 drummers, 10 pipers, five rings, 4 hen&#39;) return?"
   ]
  },
  {
   "cell_type": "code",
   "execution_count": 29,
   "id": "29cb4a3b",
   "metadata": {},
   "outputs": [
    {
     "data": {
      "text/plain": [
       "'X drummers, X pipers, five rings, X hen'"
      ]
     },
     "execution_count": 29,
     "metadata": {},
     "output_type": "execute_result"
    }
   ],
   "source": [
    "numRegex = re.compile(r'\\d+')  # \\d+ one or more digit are there\n",
    "mo = numRegex.sub('X', '11 drummers, 10 pipers, five rings, 4 hen') # sub- 1st input replace another input value with required condition\n",
    "mo"
   ]
  },
  {
   "cell_type": "markdown",
   "id": "6c9de700",
   "metadata": {},
   "source": [
    "### Q19. What does passing re.VERBOSE as the 2nd argument to re.compile() allow to do?"
   ]
  },
  {
   "cell_type": "markdown",
   "id": "5800de16",
   "metadata": {},
   "source": [
    "The re.VERBOSE() argument allows you to add whitespace and comments to the string passed to re.compile()"
   ]
  },
  {
   "cell_type": "markdown",
   "id": "5b40225c",
   "metadata": {},
   "source": [
    "### Q20. How would you write a regex that match a number with comma for every three digits? It must match the given following:"
   ]
  },
  {
   "cell_type": "markdown",
   "id": "4b43dfb3",
   "metadata": {},
   "source": [
    "&#39;42&#39;\n",
    "&#39;1,234&#39;\n",
    "&#39;6,368,745&#39;\n",
    "\n",
    "but not the following:\n",
    "&#39;12,34,567&#39; (which has only two digits between the commas)\n",
    "&#39;1234&#39; (which lacks commas)"
   ]
  },
  {
   "cell_type": "code",
   "execution_count": 31,
   "id": "2c928359",
   "metadata": {},
   "outputs": [
    {
     "data": {
      "text/plain": [
       "'42'"
      ]
     },
     "execution_count": 31,
     "metadata": {},
     "output_type": "execute_result"
    }
   ],
   "source": [
    "reg1 = re.compile(r'^\\d{1,3}(,\\d{3})*$')\n",
    "mo1 = reg1.search('42')\n",
    "mo1.group()"
   ]
  },
  {
   "cell_type": "code",
   "execution_count": 32,
   "id": "010ec759",
   "metadata": {},
   "outputs": [
    {
     "data": {
      "text/plain": [
       "'1,234'"
      ]
     },
     "execution_count": 32,
     "metadata": {},
     "output_type": "execute_result"
    }
   ],
   "source": [
    "reg1 = re.compile(r'^\\d{1,3}(,\\d{3})*$')\n",
    "mo1 = reg1.search('1,234')\n",
    "mo1.group()"
   ]
  },
  {
   "cell_type": "code",
   "execution_count": 33,
   "id": "78df6a64",
   "metadata": {},
   "outputs": [
    {
     "data": {
      "text/plain": [
       "'6,368,745'"
      ]
     },
     "execution_count": 33,
     "metadata": {},
     "output_type": "execute_result"
    }
   ],
   "source": [
    "reg1 = re.compile(r'^\\d{1,3}(,\\d{3})*$')\n",
    "mo1 = reg1.search('6,368,745')\n",
    "mo1.group()"
   ]
  },
  {
   "cell_type": "markdown",
   "id": "c2032075",
   "metadata": {},
   "source": [
    "### Q21. How would you write a regex that matches the full name of someone whose last name is Watanabe? You can assume that the first name that comes before it will always be one word that begins with a capital letter. The regex must match the following:"
   ]
  },
  {
   "cell_type": "markdown",
   "id": "50e0ccc9",
   "metadata": {},
   "source": [
    "&#39;Haruto Watanabe&#39;\n",
    "\n",
    "&#39;Alice Watanabe&#39;\n",
    "\n",
    "&#39;RoboCop Watanabe&#39;\n",
    "\n",
    "but not the following:\n",
    "\n",
    "&#39;haruto Watanabe&#39; (where the first name is not capitalized)\n",
    "\n",
    "&#39;Mr. Watanabe&#39; (where the preceding word has a nonletter character)\n",
    "\n",
    "&#39;Watanabe&#39; (which has no first name)\n",
    "\n",
    "&#39;Haruto watanabe&#39; (where Watanabe is not capitalized)"
   ]
  },
  {
   "cell_type": "code",
   "execution_count": 36,
   "id": "d97f3fd7",
   "metadata": {},
   "outputs": [
    {
     "data": {
      "text/plain": [
       "'Haruto Watanabe'"
      ]
     },
     "execution_count": 36,
     "metadata": {},
     "output_type": "execute_result"
    }
   ],
   "source": [
    "name = re.compile(r'[A-Z][a-z]*\\sWatanabe')\n",
    "reg1 = re.compile(r'^\\d{1,3}(,\\d{haruto Watanabe3})*$')\n",
    "mo1 = name.search('Haruto Watanabe')\n",
    "mo1.group()"
   ]
  },
  {
   "cell_type": "code",
   "execution_count": 37,
   "id": "7072044c",
   "metadata": {},
   "outputs": [
    {
     "data": {
      "text/plain": [
       "'Alice Watanabe'"
      ]
     },
     "execution_count": 37,
     "metadata": {},
     "output_type": "execute_result"
    }
   ],
   "source": [
    "name = re.compile(r'[A-Z][a-z]*\\sWatanabe')\n",
    "reg1 = re.compile(r'^\\d{1,3}(,\\d{3})*$')\n",
    "mo1 = name.search('Alice Watanabe')\n",
    "mo1.group()"
   ]
  },
  {
   "cell_type": "code",
   "execution_count": 38,
   "id": "fe5b7f2c",
   "metadata": {},
   "outputs": [
    {
     "data": {
      "text/plain": [
       "'Robocop Watanabe'"
      ]
     },
     "execution_count": 38,
     "metadata": {},
     "output_type": "execute_result"
    }
   ],
   "source": [
    "name = re.compile(r'[A-Z][a-z]*\\sWatanabe')\n",
    "reg1 = re.compile(r'^\\d{1,3}(,\\d{3})*$')\n",
    "mo1 = name.search('Robocop Watanabe')\n",
    "mo1.group()"
   ]
  },
  {
   "cell_type": "code",
   "execution_count": 39,
   "id": "23f96ee4",
   "metadata": {},
   "outputs": [
    {
     "ename": "AttributeError",
     "evalue": "'NoneType' object has no attribute 'group'",
     "output_type": "error",
     "traceback": [
      "\u001b[1;31m---------------------------------------------------------------------------\u001b[0m",
      "\u001b[1;31mAttributeError\u001b[0m                            Traceback (most recent call last)",
      "Input \u001b[1;32mIn [39]\u001b[0m, in \u001b[0;36m<cell line: 4>\u001b[1;34m()\u001b[0m\n\u001b[0;32m      2\u001b[0m reg1 \u001b[38;5;241m=\u001b[39m re\u001b[38;5;241m.\u001b[39mcompile(\u001b[38;5;124mr\u001b[39m\u001b[38;5;124m'\u001b[39m\u001b[38;5;124m^\u001b[39m\u001b[38;5;124m\\\u001b[39m\u001b[38;5;124md\u001b[39m\u001b[38;5;124m{\u001b[39m\u001b[38;5;124m1,3}(,\u001b[39m\u001b[38;5;124m\\\u001b[39m\u001b[38;5;124md\u001b[39m\u001b[38;5;132;01m{3}\u001b[39;00m\u001b[38;5;124m)*$\u001b[39m\u001b[38;5;124m'\u001b[39m)\n\u001b[0;32m      3\u001b[0m mo1 \u001b[38;5;241m=\u001b[39m name\u001b[38;5;241m.\u001b[39msearch(\u001b[38;5;124m'\u001b[39m\u001b[38;5;124mharuto Watanabe\u001b[39m\u001b[38;5;124m'\u001b[39m)\n\u001b[1;32m----> 4\u001b[0m \u001b[43mmo1\u001b[49m\u001b[38;5;241;43m.\u001b[39;49m\u001b[43mgroup\u001b[49m()\n",
      "\u001b[1;31mAttributeError\u001b[0m: 'NoneType' object has no attribute 'group'"
     ]
    }
   ],
   "source": [
    "name = re.compile(r'[A-Z][a-z]*\\sWatanabe')\n",
    "reg1 = re.compile(r'^\\d{1,3}(,\\d{3})*$')\n",
    "mo1 = name.search('haruto Watanabe')\n",
    "mo1.group()"
   ]
  },
  {
   "cell_type": "markdown",
   "id": "14204269",
   "metadata": {},
   "source": [
    "### Q22. How would you write a regex that matches a sentence where the first word is either Alice, Bob,or Carol; the second word is either eats, pets, or throws; the third word is apples, cats, or baseballs; and the sentence ends with a period? This regex should be case-insensitive. It must match the following:"
   ]
  },
  {
   "cell_type": "markdown",
   "id": "14d0826e",
   "metadata": {},
   "source": [
    "'Alice eats apples.'\n",
    "\n",
    "'Bob pets cats.'\n",
    "\n",
    "'Carol throws baseballs.'\n",
    "\n",
    "'Alice throws Apples.'\n",
    "\n",
    "'BOB EATS CATS.'\n",
    "\n",
    "but not the following:\n",
    "\n",
    "'RoboCop eats apples.'\n",
    "\n",
    "'ALICE THROWS FOOTBALLS.'\n",
    "\n",
    "'Carol eats 7 cats.'"
   ]
  },
  {
   "cell_type": "code",
   "execution_count": 41,
   "id": "6873d076",
   "metadata": {},
   "outputs": [
    {
     "data": {
      "text/plain": [
       "'Alice eats apples.'"
      ]
     },
     "execution_count": 41,
     "metadata": {},
     "output_type": "execute_result"
    }
   ],
   "source": [
    "name = re.compile(r'(Alice|Bob|Carol)\\s(eats|pets|throws)\\s(apples|cats|baseballs)\\.', re.IGNORECASE)\n",
    "\n",
    "mo1 = name.search('Alice eats apples.')\n",
    "mo1.group()"
   ]
  },
  {
   "cell_type": "code",
   "execution_count": 42,
   "id": "295b1bec",
   "metadata": {},
   "outputs": [
    {
     "data": {
      "text/plain": [
       "'Carol throws baseballs.'"
      ]
     },
     "execution_count": 42,
     "metadata": {},
     "output_type": "execute_result"
    }
   ],
   "source": [
    "name = re.compile(r'(Alice|Bob|Carol)\\s(eats|pets|throws)\\s(apples|cats|baseballs)\\.', re.IGNORECASE)\n",
    "\n",
    "mo1 = name.search('Carol throws baseballs.')\n",
    "mo1.group()"
   ]
  },
  {
   "cell_type": "code",
   "execution_count": null,
   "id": "1150be30",
   "metadata": {},
   "outputs": [],
   "source": []
  }
 ],
 "metadata": {
  "kernelspec": {
   "display_name": "Python 3 (ipykernel)",
   "language": "python",
   "name": "python3"
  },
  "language_info": {
   "codemirror_mode": {
    "name": "ipython",
    "version": 3
   },
   "file_extension": ".py",
   "mimetype": "text/x-python",
   "name": "python",
   "nbconvert_exporter": "python",
   "pygments_lexer": "ipython3",
   "version": "3.9.12"
  }
 },
 "nbformat": 4,
 "nbformat_minor": 5
}
