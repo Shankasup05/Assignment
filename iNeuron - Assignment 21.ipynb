{
 "cells": [
  {
   "cell_type": "markdown",
   "id": "366c6d5c",
   "metadata": {},
   "source": [
    "### Q1. Add the current date to the text file today.txt as a string."
   ]
  },
  {
   "cell_type": "code",
   "execution_count": 1,
   "id": "33f6484c",
   "metadata": {},
   "outputs": [
    {
     "data": {
      "text/plain": [
       "'2022-11-14'"
      ]
     },
     "execution_count": 1,
     "metadata": {},
     "output_type": "execute_result"
    }
   ],
   "source": [
    "import datetime\n",
    "from datetime import date\n",
    "now = date.today()\n",
    "cur_date = now.isoformat()\n",
    "cur_date"
   ]
  },
  {
   "cell_type": "markdown",
   "id": "13cb4bd2",
   "metadata": {},
   "source": [
    "### Q2. Read the text file today.txt into the string today_string"
   ]
  },
  {
   "cell_type": "code",
   "execution_count": 12,
   "id": "8b16040e",
   "metadata": {},
   "outputs": [
    {
     "data": {
      "text/plain": [
       "'2032-12-1'"
      ]
     },
     "execution_count": 12,
     "metadata": {},
     "output_type": "execute_result"
    }
   ],
   "source": [
    "with open('today.txt','r') as file:\n",
    "    today_string = file.read()\n",
    "today_string"
   ]
  },
  {
   "cell_type": "markdown",
   "id": "2c1e0b48",
   "metadata": {},
   "source": [
    "### Q3. Parse the date from today_string."
   ]
  },
  {
   "cell_type": "code",
   "execution_count": 13,
   "id": "ff6ec230",
   "metadata": {},
   "outputs": [
    {
     "data": {
      "text/plain": [
       "datetime.datetime(2032, 12, 1, 0, 0)"
      ]
     },
     "execution_count": 13,
     "metadata": {},
     "output_type": "execute_result"
    }
   ],
   "source": [
    "from datetime import datetime\n",
    "format = '%Y-%m-%d'\n",
    "datetime.strptime(today_string,format)"
   ]
  },
  {
   "cell_type": "markdown",
   "id": "3336edb2",
   "metadata": {},
   "source": [
    "### Q4. List the files in your current directory"
   ]
  },
  {
   "cell_type": "code",
   "execution_count": 14,
   "id": "04f1a7bb",
   "metadata": {},
   "outputs": [
    {
     "data": {
      "text/plain": [
       "['.bash_history',\n",
       " '.conda',\n",
       " '.condarc',\n",
       " '.continuum',\n",
       " '.dbus-keyrings',\n",
       " '.gitconfig',\n",
       " '.idlerc',\n",
       " '.ipynb_checkpoints',\n",
       " '.ipython',\n",
       " '.jupyter',\n",
       " '.matplotlib',\n",
       " '.vscode',\n",
       " '3D Objects',\n",
       " 'anaconda3',\n",
       " 'AppData',\n",
       " 'Application Data',\n",
       " 'books.csv',\n",
       " 'books.db',\n",
       " 'Contacts',\n",
       " 'Cookies',\n",
       " 'Documents',\n",
       " 'Downloads',\n",
       " 'Dropbox',\n",
       " 'excel,csv class1.ipynb',\n",
       " 'excel,csv, json class2.ipynb',\n",
       " 'Favorites',\n",
       " 'file_json.json',\n",
       " 'iNeuron - Assignment 10.ipynb',\n",
       " 'iNeuron - Assignment 12.ipynb',\n",
       " 'iNeuron - Assignment 13.ipynb',\n",
       " 'iNeuron - Assignment 14.ipynb',\n",
       " 'iNeuron - Assignment 15.ipynb',\n",
       " 'iNeuron - Assignment 16.ipynb',\n",
       " 'iNeuron - Assignment 17.ipynb',\n",
       " 'iNeuron - Assignment 18.ipynb',\n",
       " 'iNeuron - Assignment 19.ipynb',\n",
       " 'iNeuron - Assignment 20.ipynb',\n",
       " 'iNeuron - Assignment 21.ipynb',\n",
       " 'iNeuron - Assignment 4.ipynb',\n",
       " 'iNeuron - Assignment 5.ipynb',\n",
       " 'iNeuron - Assignment 6.ipynb',\n",
       " 'iNeuron - Assignment 7.ipynb',\n",
       " 'iNeuron - Assignment 8.ipynb',\n",
       " 'iNeuron - Assignment 9.ipynb',\n",
       " 'iNeuron - Assignment11.ipynb',\n",
       " 'iNeuron - Assignment2.ipynb',\n",
       " 'iNeuron - Assignment3.ipynb',\n",
       " 'iNeuron - Assignment_1.ipynb',\n",
       " 'ineuron class1.ipynb',\n",
       " 'iNeuron Quiz.ipynb',\n",
       " 'IntelGraphicsProfiles',\n",
       " 'jacket.xlsx',\n",
       " 'Links',\n",
       " 'Local Settings',\n",
       " 'log.txt',\n",
       " 'Logging.ipynb',\n",
       " 'logging_result',\n",
       " 'Microsoft',\n",
       " 'module making process.ipynb',\n",
       " 'module1.py',\n",
       " 'Music',\n",
       " 'My Documents',\n",
       " 'Mysql database.ipynb',\n",
       " 'nested1.json',\n",
       " 'NetHood',\n",
       " 'new Database practice.ipynb',\n",
       " 'new2',\n",
       " 'NTUSER.DAT',\n",
       " 'ntuser.dat.LOG1',\n",
       " 'ntuser.dat.LOG2',\n",
       " 'NTUSER.DAT{b1c936ab-4d26-11ed-9f86-8500265927c4}.TM.blf',\n",
       " 'NTUSER.DAT{b1c936ab-4d26-11ed-9f86-8500265927c4}.TMContainer00000000000000000001.regtrans-ms',\n",
       " 'NTUSER.DAT{b1c936ab-4d26-11ed-9f86-8500265927c4}.TMContainer00000000000000000002.regtrans-ms',\n",
       " 'ntuser.ini',\n",
       " 'OneDrive',\n",
       " 'panda class3.ipynb',\n",
       " 'Practice1.ipynb',\n",
       " 'PrintHood',\n",
       " 'PycharmProjects',\n",
       " 'Recent',\n",
       " 'Recycle Bin',\n",
       " 'rotatepdf.pdf',\n",
       " 'Saved Games',\n",
       " 'Searches',\n",
       " 'SendTo',\n",
       " 'Start Menu',\n",
       " 'Sti_Trace.log',\n",
       " 'store1.csv',\n",
       " 'Templates',\n",
       " 'test.txt',\n",
       " 'today.txt',\n",
       " 'Untitled.ipynb',\n",
       " 'untitled.txt',\n",
       " 'Untitled1.ipynb',\n",
       " 'upgrad.ipynb',\n",
       " 'use_coupon.json',\n",
       " 'use_coupon.txt',\n",
       " 'Video Run.ipynb',\n",
       " 'Videos',\n",
       " 'zoo.py',\n",
       " '__pycache__']"
      ]
     },
     "execution_count": 14,
     "metadata": {},
     "output_type": "execute_result"
    }
   ],
   "source": [
    "import os\n",
    "os.listdir('.')"
   ]
  },
  {
   "cell_type": "markdown",
   "id": "88432180",
   "metadata": {},
   "source": [
    "### Q5. Create a list of all of the files in your parent directory (minimum five files should be available)."
   ]
  },
  {
   "cell_type": "code",
   "execution_count": 15,
   "id": "252d666e",
   "metadata": {},
   "outputs": [
    {
     "data": {
      "text/plain": [
       "['All Users', 'Default', 'Default User', 'desktop.ini', 'Public', 'shash']"
      ]
     },
     "execution_count": 15,
     "metadata": {},
     "output_type": "execute_result"
    }
   ],
   "source": [
    "os.listdir('..')"
   ]
  },
  {
   "cell_type": "markdown",
   "id": "04f917dd",
   "metadata": {},
   "source": [
    "### Q6. Use multiprocessing to create three separate processes. Make each one wait a random number of seconds between one and five, print the current time, and then exit."
   ]
  },
  {
   "cell_type": "code",
   "execution_count": 18,
   "id": "c90021bd",
   "metadata": {},
   "outputs": [],
   "source": [
    "import multiprocessing\n",
    "\n",
    "def printsec(seconds):\n",
    "    from datetime import datetime\n",
    "    from time import sleep\n",
    "    sleep(seconds)\n",
    "    print('wait', seconds, 'seconds, time is', datetime.utcnow())\n",
    "    \n",
    "if __name__ == '__main__':\n",
    "    import random    \n",
    "    for n in range(3):\n",
    "        seconds = random.random()\n",
    "        proc = multiprocessing.Process(target=printsec, args=(seconds,))\n",
    "        proc.start()"
   ]
  },
  {
   "cell_type": "markdown",
   "id": "bed7be7f",
   "metadata": {},
   "source": [
    "### Q7. Create a date object of your day of birth."
   ]
  },
  {
   "cell_type": "code",
   "execution_count": 23,
   "id": "df2b38da",
   "metadata": {},
   "outputs": [
    {
     "data": {
      "text/plain": [
       "datetime.date(1990, 4, 15)"
      ]
     },
     "execution_count": 23,
     "metadata": {},
     "output_type": "execute_result"
    }
   ],
   "source": [
    "my_date = date(1990,4,15)\n",
    "my_date"
   ]
  },
  {
   "cell_type": "markdown",
   "id": "d87695a7",
   "metadata": {},
   "source": [
    "### Q8. What day of the week was your day of birth?"
   ]
  },
  {
   "cell_type": "code",
   "execution_count": 24,
   "id": "4d7d9e3e",
   "metadata": {},
   "outputs": [
    {
     "data": {
      "text/plain": [
       "6"
      ]
     },
     "execution_count": 24,
     "metadata": {},
     "output_type": "execute_result"
    }
   ],
   "source": [
    "my_date.weekday()"
   ]
  },
  {
   "cell_type": "code",
   "execution_count": 25,
   "id": "2b24a107",
   "metadata": {},
   "outputs": [
    {
     "data": {
      "text/plain": [
       "7"
      ]
     },
     "execution_count": 25,
     "metadata": {},
     "output_type": "execute_result"
    }
   ],
   "source": [
    "my_date.isoweekday()"
   ]
  },
  {
   "cell_type": "markdown",
   "id": "9e507d50",
   "metadata": {},
   "source": [
    "### Q9. When will you be (or when were you) 10,000 days old?"
   ]
  },
  {
   "cell_type": "code",
   "execution_count": 26,
   "id": "b6959e3b",
   "metadata": {},
   "outputs": [
    {
     "data": {
      "text/plain": [
       "datetime.date(2017, 8, 31)"
      ]
     },
     "execution_count": 26,
     "metadata": {},
     "output_type": "execute_result"
    }
   ],
   "source": [
    "from datetime import timedelta\n",
    "day10000 = my_date + timedelta(days=10000)\n",
    "day10000"
   ]
  },
  {
   "cell_type": "code",
   "execution_count": null,
   "id": "10ce4289",
   "metadata": {},
   "outputs": [],
   "source": []
  }
 ],
 "metadata": {
  "kernelspec": {
   "display_name": "Python 3 (ipykernel)",
   "language": "python",
   "name": "python3"
  },
  "language_info": {
   "codemirror_mode": {
    "name": "ipython",
    "version": 3
   },
   "file_extension": ".py",
   "mimetype": "text/x-python",
   "name": "python",
   "nbconvert_exporter": "python",
   "pygments_lexer": "ipython3",
   "version": "3.9.12"
  }
 },
 "nbformat": 4,
 "nbformat_minor": 5
}
